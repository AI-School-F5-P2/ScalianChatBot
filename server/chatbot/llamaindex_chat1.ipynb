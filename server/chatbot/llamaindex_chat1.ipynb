{
 "cells": [
  {
   "cell_type": "code",
   "execution_count": 19,
   "id": "initial_id",
   "metadata": {
    "collapsed": true,
    "ExecuteTime": {
     "end_time": "2024-02-06T20:45:26.641916Z",
     "start_time": "2024-02-06T20:45:26.631599Z"
    }
   },
   "outputs": [],
   "source": [
    "import os\n",
    "import openai\n",
    "from llama_index import SimpleDirectoryReader  # data loader\n",
    "from dotenv import load_dotenv, find_dotenv \n",
    "_=load_dotenv(find_dotenv()) # read loacl .env file"
   ]
  },
  {
   "cell_type": "code",
   "outputs": [],
   "source": [
    "openai.api_key = os.getenv(\"OPENAI_API_KEY\") # api key"
   ],
   "metadata": {
    "collapsed": false,
    "ExecuteTime": {
     "end_time": "2024-02-06T20:45:27.549026Z",
     "start_time": "2024-02-06T20:45:27.541395Z"
    }
   },
   "id": "5d9e56191ea58429",
   "execution_count": 20
  },
  {
   "cell_type": "code",
   "outputs": [
    {
     "name": "stdout",
     "output_type": "stream",
     "text": [
      "Loaded 19 doc\n"
     ]
    }
   ],
   "source": [
    "# load data\n",
    "DATA = os.getenv('DATA')\n",
    "# data reader object\n",
    "reader = SimpleDirectoryReader(DATA)\n",
    "docs = reader.load_data()\n",
    "print(f'Loaded {len(docs)} doc')"
   ],
   "metadata": {
    "collapsed": false,
    "ExecuteTime": {
     "end_time": "2024-02-06T20:45:28.705983Z",
     "start_time": "2024-02-06T20:45:28.671750Z"
    }
   },
   "id": "a8ab6976b1caf5c9",
   "execution_count": 21
  },
  {
   "cell_type": "code",
   "outputs": [
    {
     "data": {
      "text/plain": "{'www_scalian-spain_es_.txt',\n 'www_scalian-spain_es_blog.txt',\n 'www_scalian-spain_es_contacto.txt',\n 'www_scalian-spain_es_especializacion.txt',\n 'www_scalian-spain_es_especializacion_ciberseguridad.txt',\n 'www_scalian-spain_es_especializacion_data-insights.txt',\n 'www_scalian-spain_es_especializacion_digital-solutions.txt',\n 'www_scalian-spain_es_especializacion_operations-performance.txt',\n 'www_scalian-spain_es_especializacion_strategy-and-transformation.txt',\n 'www_scalian-spain_es_experiencias-de-negocio.txt',\n 'www_scalian-spain_es_experiencias-de-negocio_aeroespacial.txt',\n 'www_scalian-spain_es_experiencias-de-negocio_automocion.txt',\n 'www_scalian-spain_es_experiencias-de-negocio_banca-y-servicios-financieros.txt',\n 'www_scalian-spain_es_experiencias-de-negocio_energia.txt',\n 'www_scalian-spain_es_experiencias-de-negocio_industria.txt',\n 'www_scalian-spain_es_experiencias-de-negocio_railway.txt',\n 'www_scalian-spain_es_experiencias-de-negocio_salud.txt',\n 'www_scalian-spain_es_experiencias-de-negocio_telco.txt',\n 'www_scalian-spain_es_talento-talante.txt'}"
     },
     "execution_count": 22,
     "metadata": {},
     "output_type": "execute_result"
    }
   ],
   "source": [
    "# checking the files names\n",
    "set(d.extra_info['file_name'] for d in docs)"
   ],
   "metadata": {
    "collapsed": false,
    "ExecuteTime": {
     "end_time": "2024-02-06T20:45:30.193870Z",
     "start_time": "2024-02-06T20:45:30.179370Z"
    }
   },
   "id": "b5788ff286900f2e",
   "execution_count": 22
  },
  {
   "cell_type": "markdown",
   "source": [
    "### Split the nodes into paragraphs"
   ],
   "metadata": {
    "collapsed": false
   },
   "id": "507d008ada216b7"
  },
  {
   "cell_type": "markdown",
   "source": [
    "#### What is a node?\n",
    "A node is the basic unit of information in llamaIndex. Each node is a piece of text from a document that can be used to answer a user request. For example, if we have an agreement, then each clause or subsection of this agreement can be represented as a separate node."
   ],
   "metadata": {
    "collapsed": false
   },
   "id": "b638d1cfb2e6b34f"
  },
  {
   "cell_type": "code",
   "outputs": [
    {
     "name": "stdout",
     "output_type": "stream",
     "text": [
      "Found 39 nodes\n"
     ]
    }
   ],
   "source": [
    "# simple function to split into the nodes\n",
    "from  llama_index.node_parser import SimpleNodeParser # node parser\n",
    "# create a node parser\n",
    "parser = SimpleNodeParser()\n",
    "# split the nodes\n",
    "nodes = parser.get_nodes_from_documents(docs)\n",
    "print(f'Found {len(nodes)} nodes')"
   ],
   "metadata": {
    "collapsed": false,
    "ExecuteTime": {
     "end_time": "2024-02-06T20:45:34.851917Z",
     "start_time": "2024-02-06T20:45:34.787433Z"
    }
   },
   "id": "7021410c626db685",
   "execution_count": 23
  },
  {
   "cell_type": "code",
   "outputs": [
    {
     "data": {
      "text/plain": "TextNode(id_='58eec767-d051-4556-8797-e60920b1f663', embedding=None, metadata={'file_path': '/Users/gala/PycharmProjects/Scalian_Chat/ScalianChatBot/Data/www_scalian-spain_es_.txt', 'file_name': 'www_scalian-spain_es_.txt', 'file_type': 'text/plain', 'file_size': 7028, 'creation_date': '2024-02-06', 'last_modified_date': '2024-02-06', 'last_accessed_date': '2024-02-06'}, excluded_embed_metadata_keys=['file_name', 'file_type', 'file_size', 'creation_date', 'last_modified_date', 'last_accessed_date'], excluded_llm_metadata_keys=['file_name', 'file_type', 'file_size', 'creation_date', 'last_modified_date', 'last_accessed_date'], relationships={<NodeRelationship.SOURCE: '1'>: RelatedNodeInfo(node_id='de516fb0-bd68-4d1b-b992-c34a956e01bc', node_type=<ObjectType.DOCUMENT: '4'>, metadata={'file_path': '/Users/gala/PycharmProjects/Scalian_Chat/ScalianChatBot/Data/www_scalian-spain_es_.txt', 'file_name': 'www_scalian-spain_es_.txt', 'file_type': 'text/plain', 'file_size': 7028, 'creation_date': '2024-02-06', 'last_modified_date': '2024-02-06', 'last_accessed_date': '2024-02-06'}, hash='d60bd6f2a93c54dd4a6d3982cf8de3d34d15dbc86e28da9bf2073cc02ad2afc3'), <NodeRelationship.NEXT: '3'>: RelatedNodeInfo(node_id='03b44d14-feaf-4e8d-8582-7ec2a104d119', node_type=<ObjectType.TEXT: '1'>, metadata={}, hash='11aa8042e433efda9ab1a83cae1ff4525915741eb643016d600d5e036c9e0189')}, text='title:\\nurl:\\n\\nDESCUBRE SCALIAN SPAIN\\n\\n\\n - Descubre las nuevas perspectivas del negocio basadas en datos\\n - Una nueva era de datos, procesamiento masivo de información e Inteligencia Artificial está marcando el futuro de los procesos empresariales, sociales, económicos y políticos. \\u200b\\n - Descubre nuestras especialidades\\n\\n - La vida se construye a base de experiencias\\n - \"Hay gente que prefiere tener una experiencia de vida... nosotros preferimos tener una vida de experiencias.\"\\n\\n - Con esta filosofía en mente estamos contribuyendo de forma significativa a la evolución y digitalización de los principales sectores de la economía.\\n - Descubre nuestras experiencias\\n\\n - Puro Talento y Tenacidad\\n - Decía pablo Picasso que “la inspiración existe, pero tiene que encontrarte trabajando” por ello no existe talento sin tenacidad e insistencia. \\u200b\\n\\n - En Scalian te ayudaremos e inspiraremos para que puedas reforzar tus hard skills: conocimiento técnico puntero en áreas tecnológicas novedosas,  pero también tus soft skills: disciplina, resiliencia, tenacidad, pero sobre todo pasión por las cosas bien hechas…\\u200b\\n - Únete a nosotros\\n\\nUna compañía con propósito\\n\\n\\nNuestro objetivo es crear una “comunidad de\\xa0profesionales consciente”\\xa0dentro de un espacio de desarrollo\\xa0profesional que fomente los vínculos y sinergias\\xa0entre todos sus\\xa0miembros, así como la creatividad y la evolución tanto profesional como\\xa0personal.Un entorno en el que la combinación de servicios\\xa0proporcione un\\xa0equilibrio perfecto entre orientación estratégica,\\xa0capacidades técnicas para el desarrollo\\xa0de soluciones digitales y el\\xa0apoyo operativo que permitan ayudar a nuestros clientes a hacer evolucionar\\xa0su negocio tanto desde la perspectiva de rendimiento operativo como\\xa0de\\xa0las\\xa0sostenibilidad\\xa0al tiempo que se contribuye a la mejora de la\\xa0sociedad y del planeta.Como expertos en datos y soluciones tecnológicas nuestra misión es la\\xa0de crear entornos\\xa0digitales eficaces, diseñar arquitecturas de datos\\xa0escalables, desarrollar servicios\\xa0interoperables, integrar inteligencia\\xa0artificial en los flujos de trabajo de toma de\\xa0decisiones y\\xa0automatización, al tiempo que proporcionamos una gestión ágil de\\xa0los\\xa0proyectos y un despliegue continuo de los servicios que garanticen\\xa0unas operaciones\\xa0más inteligentes y mejoren la cadena de valor de\\xa0nuestros clientes.\\n\\n\\nHacemos\\xa0de\\xa0SCALIAN\\n\\n\\nun\\xa0lugar\\xa0al\\xa0que\\xa0desees\\xa0pertenecer\\xa0y\\xa0en\\xa0el\\xa0que\\xa0quieras\\xa0permanecer\\n\\n\\ncontribuyendo\\xa0así\\xa0a\\xa0\\xa0un\\xa0bien\\xa0común.\\u200b\\n\\n\\nEspecializados en aspectos clave de tu negocio\\n\\n\\nOperations PerformanceReducimos los costes operativos garantizando la calidad de la producción.\\n\\n\\nData & InsightsTransformamos los datos para entender mejor el negocio.\\n\\n\\nDigital SolutionsDominio de las tecnologías y evolución de los sistemas legacy.\\n\\n\\nStrategy &TransformationOfrecemos modelos negocio digitales potentes así como disrupción tecnológica.\\n\\n\\nNUESTROS SERVICIOS\\n\\n\\nEl Talento es la \"piedra angular\" de nuestra existencia.\\n\\n\\nEl fomento de la excelencia técnica y el talento creativo de nuestros empleados es la clave de bóveda que sostiene la estructura de Scalian y nos permite diseñar soluciones imaginativas basadas en la intuición, la lógica, la capacidad de análisis y síntesis para explorar las posibilidades de las tecnologías para crear resultados que tengan un impacto positivo en el negocio de nuestros clientes y en la sociedad. \\u200b\\n\\n\\nLas experiencias que nos hacen únicos\\n\\n\\nCómo aplicamos nuestra especialización en datos, IA soluciones digitales, operaciones y estrategia & transformación a los distintos sectores en los que operamos.\\n\\n\\nBanca y Servicios Financieros\\n\\n\\nSalud\\n\\n\\nAutomoción\\n\\n\\nEnergía\\n\\n\\nTelecomunicaciones\\n\\n\\nIndustria\\n\\n\\nFerroviario\\n\\n\\nAeroespacial\\n\\n\\n¡Descubre todos los beneficios de pertenecer a la comunidad de profesionales de Scalian Spain!\\n\\n\\nDescúbrelo\\n\\n\\nCreemos en el Talento y creamos Talento', start_char_idx=0, end_char_idx=3834, text_template='{metadata_str}\\n\\n{content}', metadata_template='{key}: {value}', metadata_seperator='\\n')"
     },
     "execution_count": 24,
     "metadata": {},
     "output_type": "execute_result"
    }
   ],
   "source": [
    "nodes[0]"
   ],
   "metadata": {
    "collapsed": false,
    "ExecuteTime": {
     "end_time": "2024-02-06T20:45:36.747885Z",
     "start_time": "2024-02-06T20:45:36.743570Z"
    }
   },
   "id": "961714417d80f5d2",
   "execution_count": 24
  },
  {
   "cell_type": "code",
   "outputs": [
    {
     "ename": "ValueError",
     "evalue": "One of nodes, objects, or index_struct must be provided.",
     "output_type": "error",
     "traceback": [
      "\u001B[0;31m---------------------------------------------------------------------------\u001B[0m",
      "\u001B[0;31mValueError\u001B[0m                                Traceback (most recent call last)",
      "Cell \u001B[0;32mIn[25], line 3\u001B[0m\n\u001B[1;32m      1\u001B[0m \u001B[38;5;66;03m# create  index \u001B[39;00m\n\u001B[1;32m      2\u001B[0m \u001B[38;5;28;01mfrom\u001B[39;00m \u001B[38;5;21;01mllama_index\u001B[39;00m \u001B[38;5;28;01mimport\u001B[39;00m GPTVectorStoreIndex\n\u001B[0;32m----> 3\u001B[0m index \u001B[38;5;241m=\u001B[39m \u001B[43mGPTVectorStoreIndex\u001B[49m\u001B[43m(\u001B[49m\u001B[43m)\u001B[49m\n\u001B[1;32m      4\u001B[0m \u001B[38;5;66;03m# nodes to index\u001B[39;00m\n\u001B[1;32m      5\u001B[0m index\u001B[38;5;241m.\u001B[39minsert_nodes(nodes)\n",
      "File \u001B[0;32m/Library/Frameworks/Python.framework/Versions/3.11/lib/python3.11/site-packages/llama_index/indices/vector_store/base.py:53\u001B[0m, in \u001B[0;36mVectorStoreIndex.__init__\u001B[0;34m(self, nodes, objects, index_struct, service_context, storage_context, use_async, store_nodes_override, insert_batch_size, show_progress, **kwargs)\u001B[0m\n\u001B[1;32m     51\u001B[0m \u001B[38;5;28mself\u001B[39m\u001B[38;5;241m.\u001B[39m_store_nodes_override \u001B[38;5;241m=\u001B[39m store_nodes_override\n\u001B[1;32m     52\u001B[0m \u001B[38;5;28mself\u001B[39m\u001B[38;5;241m.\u001B[39m_insert_batch_size \u001B[38;5;241m=\u001B[39m insert_batch_size\n\u001B[0;32m---> 53\u001B[0m \u001B[38;5;28;43msuper\u001B[39;49m\u001B[43m(\u001B[49m\u001B[43m)\u001B[49m\u001B[38;5;241;43m.\u001B[39;49m\u001B[38;5;21;43m__init__\u001B[39;49m\u001B[43m(\u001B[49m\n\u001B[1;32m     54\u001B[0m \u001B[43m    \u001B[49m\u001B[43mnodes\u001B[49m\u001B[38;5;241;43m=\u001B[39;49m\u001B[43mnodes\u001B[49m\u001B[43m,\u001B[49m\n\u001B[1;32m     55\u001B[0m \u001B[43m    \u001B[49m\u001B[43mindex_struct\u001B[49m\u001B[38;5;241;43m=\u001B[39;49m\u001B[43mindex_struct\u001B[49m\u001B[43m,\u001B[49m\n\u001B[1;32m     56\u001B[0m \u001B[43m    \u001B[49m\u001B[43mservice_context\u001B[49m\u001B[38;5;241;43m=\u001B[39;49m\u001B[43mservice_context\u001B[49m\u001B[43m,\u001B[49m\n\u001B[1;32m     57\u001B[0m \u001B[43m    \u001B[49m\u001B[43mstorage_context\u001B[49m\u001B[38;5;241;43m=\u001B[39;49m\u001B[43mstorage_context\u001B[49m\u001B[43m,\u001B[49m\n\u001B[1;32m     58\u001B[0m \u001B[43m    \u001B[49m\u001B[43mshow_progress\u001B[49m\u001B[38;5;241;43m=\u001B[39;49m\u001B[43mshow_progress\u001B[49m\u001B[43m,\u001B[49m\n\u001B[1;32m     59\u001B[0m \u001B[43m    \u001B[49m\u001B[43mobjects\u001B[49m\u001B[38;5;241;43m=\u001B[39;49m\u001B[43mobjects\u001B[49m\u001B[43m,\u001B[49m\n\u001B[1;32m     60\u001B[0m \u001B[43m    \u001B[49m\u001B[38;5;241;43m*\u001B[39;49m\u001B[38;5;241;43m*\u001B[39;49m\u001B[43mkwargs\u001B[49m\u001B[43m,\u001B[49m\n\u001B[1;32m     61\u001B[0m \u001B[43m\u001B[49m\u001B[43m)\u001B[49m\n",
      "File \u001B[0;32m/Library/Frameworks/Python.framework/Versions/3.11/lib/python3.11/site-packages/llama_index/indices/base.py:49\u001B[0m, in \u001B[0;36mBaseIndex.__init__\u001B[0;34m(self, nodes, objects, index_struct, storage_context, service_context, show_progress, **kwargs)\u001B[0m\n\u001B[1;32m     47\u001B[0m \u001B[38;5;250m\u001B[39m\u001B[38;5;124;03m\"\"\"Initialize with parameters.\"\"\"\u001B[39;00m\n\u001B[1;32m     48\u001B[0m \u001B[38;5;28;01mif\u001B[39;00m index_struct \u001B[38;5;129;01mis\u001B[39;00m \u001B[38;5;28;01mNone\u001B[39;00m \u001B[38;5;129;01mand\u001B[39;00m nodes \u001B[38;5;129;01mis\u001B[39;00m \u001B[38;5;28;01mNone\u001B[39;00m \u001B[38;5;129;01mand\u001B[39;00m objects \u001B[38;5;129;01mis\u001B[39;00m \u001B[38;5;28;01mNone\u001B[39;00m:\n\u001B[0;32m---> 49\u001B[0m     \u001B[38;5;28;01mraise\u001B[39;00m \u001B[38;5;167;01mValueError\u001B[39;00m(\u001B[38;5;124m\"\u001B[39m\u001B[38;5;124mOne of nodes, objects, or index_struct must be provided.\u001B[39m\u001B[38;5;124m\"\u001B[39m)\n\u001B[1;32m     50\u001B[0m \u001B[38;5;28;01mif\u001B[39;00m index_struct \u001B[38;5;129;01mis\u001B[39;00m \u001B[38;5;129;01mnot\u001B[39;00m \u001B[38;5;28;01mNone\u001B[39;00m \u001B[38;5;129;01mand\u001B[39;00m nodes \u001B[38;5;129;01mis\u001B[39;00m \u001B[38;5;129;01mnot\u001B[39;00m \u001B[38;5;28;01mNone\u001B[39;00m:\n\u001B[1;32m     51\u001B[0m     \u001B[38;5;28;01mraise\u001B[39;00m \u001B[38;5;167;01mValueError\u001B[39;00m(\u001B[38;5;124m\"\u001B[39m\u001B[38;5;124mOnly one of nodes or index_struct can be provided.\u001B[39m\u001B[38;5;124m\"\u001B[39m)\n",
      "\u001B[0;31mValueError\u001B[0m: One of nodes, objects, or index_struct must be provided."
     ]
    }
   ],
   "source": [
    "# create  index \n",
    "from llama_index import GPTVectorStoreIndex\n",
    "index = GPTVectorStoreIndex()\n",
    "# nodes to index\n",
    "index.insert_nodes(nodes)\n",
    "\n",
    "# create request engine\n",
    "engine = index.as_query_engine()\n",
    "\n",
    "# checking the index\n",
    "response = engine.query('Who is the Vise President of Scalian Spain?')\n"
   ],
   "metadata": {
    "collapsed": false,
    "ExecuteTime": {
     "end_time": "2024-02-06T20:45:45.440734Z",
     "start_time": "2024-02-06T20:45:45.412666Z"
    }
   },
   "id": "a459709c0a1590fd",
   "execution_count": 25
  },
  {
   "cell_type": "code",
   "outputs": [],
   "source": [
    "print(response)"
   ],
   "metadata": {
    "collapsed": false
   },
   "id": "d4a5d6b4d014ca8a"
  }
 ],
 "metadata": {
  "kernelspec": {
   "display_name": "Python 3",
   "language": "python",
   "name": "python3"
  },
  "language_info": {
   "codemirror_mode": {
    "name": "ipython",
    "version": 2
   },
   "file_extension": ".py",
   "mimetype": "text/x-python",
   "name": "python",
   "nbconvert_exporter": "python",
   "pygments_lexer": "ipython2",
   "version": "2.7.6"
  }
 },
 "nbformat": 4,
 "nbformat_minor": 5
}
