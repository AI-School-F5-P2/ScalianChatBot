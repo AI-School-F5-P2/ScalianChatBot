{
 "cells": [
  {
   "cell_type": "markdown",
   "source": [
    "# LlamaIndex"
   ],
   "metadata": {
    "collapsed": false
   },
   "id": "47d2c844641f6cea"
  },
  {
   "cell_type": "markdown",
   "source": [
    "### Within the framework of **llamaindex**, the main elements of **RAG** are represented by the following modules:\n",
    "\n",
    "1. **Data Connectors:** These are modules responsible for loading and processing data. They allow you to load data, create nodes from them, and build an index.\n",
    "\n",
    "2. **Retrievers:** These modules are responsible for searching the index. They enable searching the index and obtaining the most relevant nodes.\n",
    "\n",
    "3. **Query Engines:** These modules are responsible for generating a response to a query. They use information obtained from retrievers to generate a response.\n"
   ],
   "metadata": {
    "collapsed": false
   },
   "id": "d510a9423acfa9a1"
  },
  {
   "cell_type": "code",
   "outputs": [],
   "source": [
    "from llama_index import VectorStoreIndex, SimpleDirectoryReader # Data Connectors"
   ],
   "metadata": {
    "collapsed": false,
    "ExecuteTime": {
     "end_time": "2024-02-02T10:02:30.778871Z",
     "start_time": "2024-02-02T10:02:29.528439Z"
    }
   },
   "id": "7ea74a1d85250cca",
   "execution_count": 1
  },
  {
   "cell_type": "code",
   "outputs": [],
   "source": [
    "import openai\n",
    "import os\n",
    "from dotenv import load_dotenv, find_dotenv\n",
    "_=load_dotenv(find_dotenv()) # read loacl .env file"
   ],
   "metadata": {
    "collapsed": false,
    "ExecuteTime": {
     "end_time": "2024-02-02T10:04:19.199555Z",
     "start_time": "2024-02-02T10:04:19.191269Z"
    }
   },
   "id": "2a1c23d9470335b6",
   "execution_count": 6
  },
  {
   "cell_type": "code",
   "outputs": [],
   "source": [
    "openai.api_key = os.getenv(\"OPENAI_API_KEY\")"
   ],
   "metadata": {
    "collapsed": false,
    "ExecuteTime": {
     "end_time": "2024-02-02T10:02:36.672277Z",
     "start_time": "2024-02-02T10:02:36.669398Z"
    }
   },
   "id": "a4cc9694704af51c",
   "execution_count": 3
  },
  {
   "cell_type": "code",
   "outputs": [],
   "source": [
    "DATA = os.getenv('DATA')\n",
    "documents = SimpleDirectoryReader(DATA).load_data()"
   ],
   "metadata": {
    "collapsed": false,
    "ExecuteTime": {
     "end_time": "2024-02-02T10:04:47.301265Z",
     "start_time": "2024-02-02T10:04:47.281234Z"
    }
   },
   "id": "853bc415ba9514f7",
   "execution_count": 7
  },
  {
   "cell_type": "code",
   "outputs": [
    {
     "data": {
      "text/plain": "[Document(id_='8fedd91f-a1ad-458c-92ac-e5ebe0291d8f', embedding=None, metadata={'file_path': '/Users/gala/PycharmProjects/Scalian_Chat/ScalianChatBot/Data/scalian_es.txt', 'file_name': 'scalian_es.txt', 'file_type': 'text/plain', 'file_size': 4541, 'creation_date': '2024-02-02', 'last_modified_date': '2024-01-30', 'last_accessed_date': '2024-02-02'}, excluded_embed_metadata_keys=['file_name', 'file_type', 'file_size', 'creation_date', 'last_modified_date', 'last_accessed_date'], excluded_llm_metadata_keys=['file_name', 'file_type', 'file_size', 'creation_date', 'last_modified_date', 'last_accessed_date'], relationships={}, text=\"Scalian Spain is a leading technology consulting and engineering company that provides innovative solutions to clients across various industries. With a strong focus on digital transformation, Scalian Spain helps businesses optimize their operations, improve efficiency, and drive growth.\\n\\nEstablished in 2009, Scalian Spain is part of the Scalian Group, a global organization with a presence in more than 15 countries. The company has a team of highly skilled professionals who are experts in their respective fields, including software engineering, data science, cybersecurity, and project management.\\n\\nOne of the key strengths of Scalian Spain is its ability to understand and adapt to the specific needs of each client. The company takes a collaborative approach, working closely with clients to develop tailored solutions that address their unique challenges. By combining technical expertise with industry knowledge, Scalian Spain is able to deliver high-quality solutions that drive tangible business results.\\n\\nScalian Spain offers a wide range of services to its clients. These include software development, system integration, data analytics, cloud computing, and cybersecurity. The company has experience working with both large corporations and small and medium-sized enterprises (SMEs), providing them with the tools and expertise they need to succeed in today's digital world.\\n\\nIn the field of software development, Scalian Spain has a proven track record of delivering innovative and reliable solutions. The company follows agile methodologies to ensure that projects are delivered on time and within budget. Whether it's developing a custom application or enhancing an existing system, Scalian Spain has the expertise to meet the unique requirements of each client.\\n\\nSystem integration is another area of expertise for Scalian Spain. The company helps clients integrate their various systems and applications to streamline operations and improve efficiency. By connecting disparate systems, Scalian Spain enables clients to access real-time data and make informed decisions.\\n\\nData analytics is a key focus area for Scalian Spain. The company helps clients leverage their data to gain valuable insights and make data-driven decisions. From data collection and cleansing to advanced analytics and visualization, Scalian Spain provides end-to-end data analytics solutions that help clients unlock the full potential of their data.\\n\\nCloud computing is another area where Scalian Spain excels. The company helps clients migrate their applications and infrastructure to the cloud, enabling them to take advantage of the scalability, flexibility, and cost savings that cloud computing offers. Scalian Spain has expertise in various cloud platforms, including Amazon Web Services (AWS), Microsoft Azure, and Google Cloud Platform.\\n\\nIn today's digital landscape, cybersecurity is a top priority for businesses. Scalian Spain offers a range of cybersecurity services to help clients protect their critical assets and mitigate risks. From vulnerability assessments and penetration testing to security monitoring and incident response, Scalian Spain helps clients build robust cybersecurity strategies and ensure the integrity and confidentiality of their data.\\n\\nScalian Spain has a strong commitment to innovation and continuous improvement. The company invests in research and development to stay at the forefront of technological advancements. By leveraging emerging technologies such as artificial intelligence (AI), machine learning, and the Internet of Things (IoT), Scalian Spain helps clients harness the power of digital transformation and stay ahead of the competition.\\n\\nThe company also places a strong emphasis on talent development. Scalian Spain provides its employees with ongoing training and development opportunities to enhance their skills and expertise. By fostering a culture of learning and innovation, Scalian Spain ensures that its team is equipped with the knowledge and capabilities to deliver exceptional results for clients.\\n\\nIn summary, Scalian Spain is a leading technology consulting and engineering company that offers a wide range of services to help clients navigate the complexities of the digital world. With a focus on collaboration, innovation, and expertise, Scalian Spain delivers tailored solutions that drive business growth and success. Whether you are a potential client, business partner, or employee, Scalian Spain is a trusted partner that can help you achieve your goals in the digital era.\", start_char_idx=None, end_char_idx=None, text_template='{metadata_str}\\n\\n{content}', metadata_template='{key}: {value}', metadata_seperator='\\n')]"
     },
     "execution_count": 8,
     "metadata": {},
     "output_type": "execute_result"
    }
   ],
   "source": [
    "documents"
   ],
   "metadata": {
    "collapsed": false,
    "ExecuteTime": {
     "end_time": "2024-02-02T10:04:48.623440Z",
     "start_time": "2024-02-02T10:04:48.618860Z"
    }
   },
   "id": "a6bc074f01a92cdc",
   "execution_count": 8
  },
  {
   "cell_type": "markdown",
   "source": [
    "As expected, in the list, we have one document with the type llama_index.schema.Document. Now let's try to index our document in the vector database. This is handled by the class \n",
    "## **ChatGPTRetrievalPluginIndex**. It has a method for creating an index based on a list of documents called `from_documents`. There are various vector databases available for this purpose.\n"
   ],
   "metadata": {
    "collapsed": false
   },
   "id": "86798b77ce39db6e"
  },
  {
   "cell_type": "markdown",
   "source": [
    "GPTSimpleVectorIndex\n",
    "    \n",
    "GPTFaissIndex\n",
    "    \n",
    "GPTWeaviateIndex\n",
    "    \n",
    "GPTPineconeIndex\n",
    "    \n",
    "GPTQdrantIndex\n",
    "    \n",
    "GPTChromaIndex\n",
    "    \n",
    "GPTMilvusIndex\n",
    "    \n",
    "GPTDeepLakeIndex\n",
    "    \n",
    "GPTMyScaleIndex"
   ],
   "metadata": {
    "collapsed": false
   },
   "id": "ee1e9ee1ce7d448e"
  },
  {
   "cell_type": "markdown",
   "source": [
    "## GPTSimpleVectorIndex"
   ],
   "metadata": {
    "collapsed": false
   },
   "id": "12804130e3f012b8"
  },
  {
   "cell_type": "code",
   "outputs": [],
   "source": [
    "from llama_index.indices.vector_store import GPTVectorStoreIndex\n",
    "from llama_index.indices.keyword_table import GPTKeywordTableIndex"
   ],
   "metadata": {
    "collapsed": false,
    "ExecuteTime": {
     "end_time": "2024-02-02T10:06:18.917153Z",
     "start_time": "2024-02-02T10:06:18.911933Z"
    }
   },
   "id": "eb1e9f54093c32a2",
   "execution_count": 9
  },
  {
   "cell_type": "markdown",
   "source": [
    "For now, we are using the simple option GPTSimpleVectorIndex, but beforehand, you need to set the OpenAI API key to use the embedding model.\n"
   ],
   "metadata": {
    "collapsed": false
   },
   "id": "40d267c1487399cd"
  },
  {
   "cell_type": "markdown",
   "source": [
    "In llamaIndex, the query_engine is an object that manages the search process in the index. The index is a data structure that stores \"nodes.\" A node corresponds to a fragment of text from a document. LlamaIndex takes document objects and internally breaks them into node objects.\n",
    "\n",
    "In our case, it searches only through one node because we haven't split our text into nodes.\n",
    ".\n"
   ],
   "metadata": {
    "collapsed": false
   },
   "id": "a3dcaddd66ac2a5"
  },
  {
   "cell_type": "code",
   "outputs": [
    {
     "name": "stdout",
     "output_type": "stream",
     "text": [
      "Scalian offers a wide range of services to its clients. These services include software development, system integration, data analytics, cloud computing, and cybersecurity.\n"
     ]
    }
   ],
   "source": [
    "# index object\n",
    "index = GPTVectorStoreIndex.from_documents(documents)\n",
    "\n",
    "\n",
    "# query engine object\n",
    "query_engine = index.as_query_engine()\n",
    "\n",
    "# query to the index\n",
    "response2 = query_engine.query(\n",
    "\t'What services offer scalain?'\n",
    ")\n",
    "print(response2.response)"
   ],
   "metadata": {
    "collapsed": false,
    "ExecuteTime": {
     "end_time": "2024-02-02T10:07:46.637053Z",
     "start_time": "2024-02-02T10:07:43.029057Z"
    }
   },
   "id": "eddd7672b8fadb82",
   "execution_count": 10
  },
  {
   "cell_type": "code",
   "outputs": [
    {
     "data": {
      "text/plain": "0.7906174234772851"
     },
     "execution_count": 11,
     "metadata": {},
     "output_type": "execute_result"
    }
   ],
   "source": [
    "# level of confidence\n",
    "response2.source_nodes[0].score"
   ],
   "metadata": {
    "collapsed": false,
    "ExecuteTime": {
     "end_time": "2024-02-02T10:07:48.670191Z",
     "start_time": "2024-02-02T10:07:48.665704Z"
    }
   },
   "id": "79d986e82a06907",
   "execution_count": 11
  },
  {
   "cell_type": "code",
   "outputs": [
    {
     "data": {
      "text/plain": "Response(response='Scalian offers a wide range of services to its clients. These services include software development, system integration, data analytics, cloud computing, and cybersecurity.', source_nodes=[NodeWithScore(node=TextNode(id_='cc8b5f7b-416f-4883-8339-cecbd7e20818', embedding=None, metadata={'file_path': '/Users/gala/PycharmProjects/Scalian_Chat/ScalianChatBot/Data/scalian_es.txt', 'file_name': 'scalian_es.txt', 'file_type': 'text/plain', 'file_size': 4541, 'creation_date': '2024-02-02', 'last_modified_date': '2024-01-30', 'last_accessed_date': '2024-02-02'}, excluded_embed_metadata_keys=['file_name', 'file_type', 'file_size', 'creation_date', 'last_modified_date', 'last_accessed_date'], excluded_llm_metadata_keys=['file_name', 'file_type', 'file_size', 'creation_date', 'last_modified_date', 'last_accessed_date'], relationships={<NodeRelationship.SOURCE: '1'>: RelatedNodeInfo(node_id='8fedd91f-a1ad-458c-92ac-e5ebe0291d8f', node_type=<ObjectType.DOCUMENT: '4'>, metadata={'file_path': '/Users/gala/PycharmProjects/Scalian_Chat/ScalianChatBot/Data/scalian_es.txt', 'file_name': 'scalian_es.txt', 'file_type': 'text/plain', 'file_size': 4541, 'creation_date': '2024-02-02', 'last_modified_date': '2024-01-30', 'last_accessed_date': '2024-02-02'}, hash='794f0d88b8df3a7d457cb06cf2b8e2ee0cce64fd89b8db8c4801c72e39a330ed')}, text=\"Scalian Spain is a leading technology consulting and engineering company that provides innovative solutions to clients across various industries. With a strong focus on digital transformation, Scalian Spain helps businesses optimize their operations, improve efficiency, and drive growth.\\n\\nEstablished in 2009, Scalian Spain is part of the Scalian Group, a global organization with a presence in more than 15 countries. The company has a team of highly skilled professionals who are experts in their respective fields, including software engineering, data science, cybersecurity, and project management.\\n\\nOne of the key strengths of Scalian Spain is its ability to understand and adapt to the specific needs of each client. The company takes a collaborative approach, working closely with clients to develop tailored solutions that address their unique challenges. By combining technical expertise with industry knowledge, Scalian Spain is able to deliver high-quality solutions that drive tangible business results.\\n\\nScalian Spain offers a wide range of services to its clients. These include software development, system integration, data analytics, cloud computing, and cybersecurity. The company has experience working with both large corporations and small and medium-sized enterprises (SMEs), providing them with the tools and expertise they need to succeed in today's digital world.\\n\\nIn the field of software development, Scalian Spain has a proven track record of delivering innovative and reliable solutions. The company follows agile methodologies to ensure that projects are delivered on time and within budget. Whether it's developing a custom application or enhancing an existing system, Scalian Spain has the expertise to meet the unique requirements of each client.\\n\\nSystem integration is another area of expertise for Scalian Spain. The company helps clients integrate their various systems and applications to streamline operations and improve efficiency. By connecting disparate systems, Scalian Spain enables clients to access real-time data and make informed decisions.\\n\\nData analytics is a key focus area for Scalian Spain. The company helps clients leverage their data to gain valuable insights and make data-driven decisions. From data collection and cleansing to advanced analytics and visualization, Scalian Spain provides end-to-end data analytics solutions that help clients unlock the full potential of their data.\\n\\nCloud computing is another area where Scalian Spain excels. The company helps clients migrate their applications and infrastructure to the cloud, enabling them to take advantage of the scalability, flexibility, and cost savings that cloud computing offers. Scalian Spain has expertise in various cloud platforms, including Amazon Web Services (AWS), Microsoft Azure, and Google Cloud Platform.\\n\\nIn today's digital landscape, cybersecurity is a top priority for businesses. Scalian Spain offers a range of cybersecurity services to help clients protect their critical assets and mitigate risks. From vulnerability assessments and penetration testing to security monitoring and incident response, Scalian Spain helps clients build robust cybersecurity strategies and ensure the integrity and confidentiality of their data.\\n\\nScalian Spain has a strong commitment to innovation and continuous improvement. The company invests in research and development to stay at the forefront of technological advancements. By leveraging emerging technologies such as artificial intelligence (AI), machine learning, and the Internet of Things (IoT), Scalian Spain helps clients harness the power of digital transformation and stay ahead of the competition.\\n\\nThe company also places a strong emphasis on talent development. Scalian Spain provides its employees with ongoing training and development opportunities to enhance their skills and expertise. By fostering a culture of learning and innovation, Scalian Spain ensures that its team is equipped with the knowledge and capabilities to deliver exceptional results for clients.\\n\\nIn summary, Scalian Spain is a leading technology consulting and engineering company that offers a wide range of services to help clients navigate the complexities of the digital world. With a focus on collaboration, innovation, and expertise, Scalian Spain delivers tailored solutions that drive business growth and success. Whether you are a potential client, business partner, or employee, Scalian Spain is a trusted partner that can help you achieve your goals in the digital era.\", start_char_idx=0, end_char_idx=4541, text_template='{metadata_str}\\n\\n{content}', metadata_template='{key}: {value}', metadata_seperator='\\n'), score=0.7906174234772851)], metadata={'cc8b5f7b-416f-4883-8339-cecbd7e20818': {'file_path': '/Users/gala/PycharmProjects/Scalian_Chat/ScalianChatBot/Data/scalian_es.txt', 'file_name': 'scalian_es.txt', 'file_type': 'text/plain', 'file_size': 4541, 'creation_date': '2024-02-02', 'last_modified_date': '2024-01-30', 'last_accessed_date': '2024-02-02'}})"
     },
     "execution_count": 12,
     "metadata": {},
     "output_type": "execute_result"
    }
   ],
   "source": [
    "response2"
   ],
   "metadata": {
    "collapsed": false,
    "ExecuteTime": {
     "end_time": "2024-02-02T10:07:52.642032Z",
     "start_time": "2024-02-02T10:07:52.632420Z"
    }
   },
   "id": "f15427340c7bf615",
   "execution_count": 12
  },
  {
   "cell_type": "markdown",
   "source": [
    "It is important to note that \"relevance\" here is determined by the model trained to understand which nodes may be relevant to a specific query. This may involve analyzing the semantic content of the query and nodes, as well as other factors.\n",
    "\n"
   ],
   "metadata": {
    "collapsed": false
   },
   "id": "f655406237b867dc"
  },
  {
   "cell_type": "code",
   "outputs": [],
   "source": [],
   "metadata": {
    "collapsed": false
   },
   "id": "114c2a0c9a398367"
  }
 ],
 "metadata": {
  "kernelspec": {
   "display_name": "Python 3",
   "language": "python",
   "name": "python3"
  },
  "language_info": {
   "codemirror_mode": {
    "name": "ipython",
    "version": 2
   },
   "file_extension": ".py",
   "mimetype": "text/x-python",
   "name": "python",
   "nbconvert_exporter": "python",
   "pygments_lexer": "ipython2",
   "version": "2.7.6"
  }
 },
 "nbformat": 4,
 "nbformat_minor": 5
}
