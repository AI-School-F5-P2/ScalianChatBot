{
 "cells": [
  {
   "cell_type": "markdown",
   "source": [
    "# Create proper AI model with LangChain and FAISS as vector database"
   ],
   "metadata": {
    "collapsed": false
   },
   "id": "7c1539a4e87285d1"
  },
  {
   "cell_type": "markdown",
   "source": [
    "## Prepare data\n"
   ],
   "metadata": {
    "collapsed": false
   },
   "id": "fefac81d2714f5b2"
  },
  {
   "cell_type": "code",
   "outputs": [
    {
     "name": "stdout",
     "output_type": "stream",
     "text": [
      "Document ID: 1\n",
      "Question: What expertise does Scalian offer?\n",
      "Answer: Scalian offers expertise in various domains such as digital systems, engineering, information systems, and operations research.\n",
      "URL: https://www.scalian.com/expertise\n",
      "\n",
      "Document ID: 2\n",
      "Question: Can Scalian provide support in digital transformation projects?\n",
      "Answer: Yes, Scalian specializes in digital transformation projects and can provide support in areas like data analytics, cloud computing, and cybersecurity.\n",
      "URL: https://www.scalian.com/expertise\n",
      "\n",
      "Document ID: 3\n",
      "Question: Does Scalian have expertise in the aerospace industry?\n",
      "Answer: Yes, Scalian has extensive expertise in the aerospace industry, including areas like avionics, flight testing, and simulation.\n",
      "URL: https://www.scalian.com/expertise\n",
      "\n",
      "Document ID: 4\n",
      "Question: What kind of expertise does Scalian offer in the automotive sector?\n",
      "Answer: Scalian offers expertise in automotive engineering, connected vehicles, and autonomous driving technologies.\n",
      "URL: https://www.scalian.com/expertise\n",
      "\n",
      "Document ID: 5\n",
      "Question: Can Scalian provide support in the energy sector?\n",
      "Answer: Yes, Scalian has expertise in the energy sector, including areas like renewable energy, smart grids, and energy management systems.\n",
      "URL: https://www.scalian.com/expertise\n",
      "\n",
      "Document ID: 6\n",
      "Question: Which industries does Scalian serve?\n",
      "Answer: Scalian serves industries such as aerospace, automotive, defense, energy, healthcare, and telecommunications.\n",
      "URL: https://www.scalian.com/industries\n",
      "\n",
      "Document ID: 7\n",
      "Question: Can Scalian provide solutions for the healthcare industry?\n",
      "Answer: Yes, Scalian offers solutions for the healthcare industry, including digital health, medical devices, and healthcare IT systems.\n",
      "URL: https://www.scalian.com/industries\n",
      "\n",
      "Document ID: 8\n",
      "Question: Does Scalian have experience in the telecommunications sector?\n",
      "Answer: Yes, Scalian has experience in the telecommunications sector, including areas like network optimization, digital transformation, and IoT solutions.\n",
      "URL: https://www.scalian.com/industries\n",
      "\n",
      "Document ID: 9\n",
      "Question: What services does Scalian offer for the defense industry?\n",
      "Answer: Scalian offers services such as defense systems engineering, cybersecurity, and military simulation for the defense industry.\n",
      "URL: https://www.scalian.com/industries\n",
      "\n",
      "Document ID: 10\n",
      "Question: Can Scalian provide solutions for the automotive industry?\n",
      "Answer: Yes, Scalian provides solutions for the automotive industry, including connected vehicles, electric mobility, and autonomous driving technologies.\n",
      "URL: https://www.scalian.com/industries\n",
      "\n",
      "Document ID: 11\n",
      "Question: How can I join Scalian?\n",
      "Answer: To join Scalian, you can visit our careers page and explore the available job opportunities or submit your resume for future consideration.\n",
      "URL: https://www.scalian.com/career\n",
      "\n",
      "Document ID: 12\n",
      "Question: What are the benefits of working at Scalian?\n",
      "Answer: Working at Scalian offers benefits such as career development opportunities, a collaborative work environment, competitive compensation, and a range of employee benefits.\n",
      "URL: https://www.scalian.com/career\n",
      "\n",
      "Document ID: 13\n",
      "Question: Does Scalian offer internships or graduate programs?\n",
      "Answer: Yes, Scalian offers internships and graduate programs to provide valuable learning experiences and career opportunities for students and recent graduates.\n",
      "URL: https://www.scalian.com/career\n",
      "\n",
      "Document ID: 14\n",
      "Question: What is the recruitment process at Scalian?\n",
      "Answer: The recruitment process at Scalian typically involves application screening, interviews, technical assessments, and reference checks.\n",
      "URL: https://www.scalian.com/career\n",
      "\n",
      "Document ID: 15\n",
      "Question: Can I apply for a job at Scalian internationally?\n",
      "Answer: Yes, Scalian has a global presence and welcomes applications from candidates interested in working internationally.\n",
      "URL: https://www.scalian.com/career\n",
      "\n",
      "Document ID: 16\n",
      "Question: What is Scalian's group structure?\n",
      "Answer: Scalian is part of the AUSY Group, a leading international consulting and engineering firm, which provides access to a wider range of expertise and resources.\n",
      "URL: https://www.scalian.com/our-group\n",
      "\n",
      "Document ID: 17\n",
      "Question: How does Scalian collaborate with other companies in the AUSY Group?\n",
      "Answer: Scalian collaborates with other companies in the AUSY Group to leverage synergies, share knowledge, and deliver integrated solutions to clients.\n",
      "URL: https://www.scalian.com/our-group\n",
      "\n",
      "Document ID: 18\n",
      "Question: What are the advantages of being part of the AUSY Group?\n",
      "Answer: Being part of the AUSY Group allows Scalian to access a larger network, expand its service offerings, and benefit from the group's international presence.\n",
      "URL: https://www.scalian.com/our-group\n",
      "\n",
      "Document ID: 19\n",
      "Question: Can Scalian work independently from the AUSY Group?\n",
      "Answer: While Scalian is part of the AUSY Group, it operates as an independent entity and has its own dedicated teams and projects.\n",
      "URL: https://www.scalian.com/our-group\n",
      "\n",
      "Document ID: 20\n",
      "Question: How does Scalian contribute to the AUSY Group's overall capabilities?\n",
      "Answer: Scalian brings its expertise in digital systems, engineering, and information systems to enhance the AUSY Group's capabilities in various industries.\n",
      "URL: https://www.scalian.com/our-group\n",
      "\n",
      "Document ID: 21\n",
      "Question: Where can I find the latest news about Scalian?\n",
      "Answer: You can find the latest news about Scalian on our newsroom page, which provides updates on projects, partnerships, and industry insights.\n",
      "URL: https://www.scalian.com/newsroom\n",
      "\n",
      "Document ID: 22\n",
      "Question: Can I subscribe to receive news updates from Scalian?\n",
      "Answer: Yes, you can subscribe to our newsletter on the newsroom page to receive regular updates and insights from Scalian.\n",
      "URL: https://www.scalian.com/newsroom\n",
      "\n",
      "Document ID: 23\n",
      "Question: Does Scalian publish case studies or success stories?\n",
      "Answer: Yes, Scalian publishes case studies and success stories on the newsroom page to showcase our expertise and the impact of our solutions.\n",
      "URL: https://www.scalian.com/newsroom\n",
      "\n",
      "Document ID: 24\n",
      "Question: Are there any upcoming events or webinars organized by Scalian?\n",
      "Answer: Yes, Scalian organizes events and webinars on various topics related to our expertise and industry trends. You can find the details on the newsroom page.\n",
      "URL: https://www.scalian.com/newsroom\n",
      "\n",
      "Document ID: 25\n",
      "Question: Can I access past press releases from Scalian?\n",
      "Answer: Yes, you can access past press releases from Scalian on the newsroom page to stay updated on our company's announcements and achievements.\n",
      "URL: https://www.scalian.com/newsroom\n",
      "\n",
      "Document ID: 26\n",
      "Question: What kind of insights does Scalian provide?\n",
      "Answer: Scalian provides insights on topics such as digital transformation, industry trends, emerging technologies, and best practices in various sectors.\n",
      "URL: https://www.scalian.com/insights\n",
      "\n",
      "Document ID: 27\n",
      "Question: Can I access whitepapers or research papers from Scalian?\n",
      "Answer: Yes, Scalian publishes whitepapers and research papers on the insights page, covering a wide range of topics related to our expertise and industries.\n",
      "URL: https://www.scalian.com/insights\n",
      "\n",
      "Document ID: 28\n",
      "Question: Does Scalian offer thought leadership articles or blogs?\n",
      "Answer: Yes, Scalian offers thought leadership articles and blogs written by our experts, providing valuable insights and perspectives on industry challenges and opportunities.\n",
      "URL: https://www.scalian.com/insights\n",
      "\n",
      "Document ID: 29\n",
      "Question: Are there any upcoming webinars or workshops organized by Scalian?\n",
      "Answer: Yes, Scalian organizes webinars and workshops on various topics to share knowledge and facilitate discussions. You can find the details on the insights page.\n",
      "URL: https://www.scalian.com/insights\n",
      "\n",
      "Document ID: 30\n",
      "Question: Can I request a specific topic for an insight or webinar?\n",
      "Answer: Yes, you can contact us through the insights page to request a specific topic for an insight or webinar, and we will consider it for future content.\n",
      "URL: https://www.scalian.com/insights\n"
     ]
    }
   ],
   "source": [
    "\n",
    "# define data structure\n",
    "documents = [ {\n",
    "        \"id \": 1,\n",
    "        \"Question\": \"What expertise does Scalian offer?\",\n",
    "        \"Answer\": \"Scalian offers expertise in various domains such as digital systems, engineering, information systems, and operations research.\",\n",
    "        \"URL\": \"https://www.scalian.com/expertise\"\n",
    "    },\n",
    "    {\n",
    "        \"id \":2,\n",
    "        \"Question\": \"Can Scalian provide support in digital transformation projects?\",\n",
    "        \"Answer\": \"Yes, Scalian specializes in digital transformation projects and can provide support in areas like data analytics, cloud computing, and cybersecurity.\",\n",
    "        \"URL\": \"https://www.scalian.com/expertise\"\n",
    "    },\n",
    "    {\n",
    "        \"id \": 3,\n",
    "        \"Question\": \"Does Scalian have expertise in the aerospace industry?\",\n",
    "        \"Answer\": \"Yes, Scalian has extensive expertise in the aerospace industry, including areas like avionics, flight testing, and simulation.\",\n",
    "        \"URL\": \"https://www.scalian.com/expertise\"\n",
    "    },\n",
    "    {\n",
    "        \"id \": 4,\n",
    "        \"Question\": \"What kind of expertise does Scalian offer in the automotive sector?\",\n",
    "        \"Answer\": \"Scalian offers expertise in automotive engineering, connected vehicles, and autonomous driving technologies.\",\n",
    "        \"URL\": \"https://www.scalian.com/expertise\"\n",
    "    },\n",
    "    {\n",
    "        \"id \": 5,\n",
    "        \"Question\": \"Can Scalian provide support in the energy sector?\",\n",
    "        \"Answer\": \"Yes, Scalian has expertise in the energy sector, including areas like renewable energy, smart grids, and energy management systems.\",\n",
    "        \"URL\": \"https://www.scalian.com/expertise\"\n",
    "    },\n",
    "    {\n",
    "        \"id \": 6,\n",
    "        \"Question\": \"Which industries does Scalian serve?\",\n",
    "        \"Answer\": \"Scalian serves industries such as aerospace, automotive, defense, energy, healthcare, and telecommunications.\",\n",
    "        \"URL\": \"https://www.scalian.com/industries\"\n",
    "    },\n",
    "    {\n",
    "        \"id \": 7,\n",
    "        \"Question\": \"Can Scalian provide solutions for the healthcare industry?\",\n",
    "        \"Answer\": \"Yes, Scalian offers solutions for the healthcare industry, including digital health, medical devices, and healthcare IT systems.\",\n",
    "        \"URL\": \"https://www.scalian.com/industries\"\n",
    "    },\n",
    "    {   \n",
    "        \"id \": 8,\n",
    "        \"Question\": \"Does Scalian have experience in the telecommunications sector?\",\n",
    "        \"Answer\": \"Yes, Scalian has experience in the telecommunications sector, including areas like network optimization, digital transformation, and IoT solutions.\",\n",
    "        \"URL\": \"https://www.scalian.com/industries\"\n",
    "    },\n",
    "    {\n",
    "        \"id \": 9,\n",
    "        \"Question\": \"What services does Scalian offer for the defense industry?\",\n",
    "        \"Answer\": \"Scalian offers services such as defense systems engineering, cybersecurity, and military simulation for the defense industry.\",\n",
    "        \"URL\": \"https://www.scalian.com/industries\"\n",
    "    },\n",
    "    {\n",
    "        \"id \": 10,\n",
    "        \"Question\": \"Can Scalian provide solutions for the automotive industry?\",\n",
    "        \"Answer\": \"Yes, Scalian provides solutions for the automotive industry, including connected vehicles, electric mobility, and autonomous driving technologies.\",\n",
    "        \"URL\": \"https://www.scalian.com/industries\"\n",
    "    },\n",
    "    {\n",
    "        \"id \": 11,\n",
    "        \"Question\": \"How can I join Scalian?\",\n",
    "        \"Answer\": \"To join Scalian, you can visit our careers page and explore the available job opportunities or submit your resume for future consideration.\",\n",
    "        \"URL\": \"https://www.scalian.com/career\"\n",
    "    },\n",
    "    {\n",
    "        \"id \": 12,\n",
    "        \"Question\": \"What are the benefits of working at Scalian?\",\n",
    "        \"Answer\": \"Working at Scalian offers benefits such as career development opportunities, a collaborative work environment, competitive compensation, and a range of employee benefits.\",\n",
    "        \"URL\": \"https://www.scalian.com/career\"\n",
    "    },\n",
    "    {\n",
    "        \"id \": 13,\n",
    "        \"Question\": \"Does Scalian offer internships or graduate programs?\",\n",
    "        \"Answer\": \"Yes, Scalian offers internships and graduate programs to provide valuable learning experiences and career opportunities for students and recent graduates.\",\n",
    "        \"URL\": \"https://www.scalian.com/career\"\n",
    "    },\n",
    "    {\n",
    "        \"id \": 14,\n",
    "        \"Question\": \"What is the recruitment process at Scalian?\",\n",
    "        \"Answer\": \"The recruitment process at Scalian typically involves application screening, interviews, technical assessments, and reference checks.\",\n",
    "        \"URL\": \"https://www.scalian.com/career\"\n",
    "    },\n",
    "    {\n",
    "        \"id \": 15,\n",
    "        \"Question\": \"Can I apply for a job at Scalian internationally?\",\n",
    "        \"Answer\": \"Yes, Scalian has a global presence and welcomes applications from candidates interested in working internationally.\",\n",
    "        \"URL\": \"https://www.scalian.com/career\"\n",
    "    },\n",
    "    {\"id \": 16,\n",
    "        \"Question\": \"What is Scalian's group structure?\",\n",
    "        \"Answer\": \"Scalian is part of the AUSY Group, a leading international consulting and engineering firm, which provides access to a wider range of expertise and resources.\",\n",
    "        \"URL\": \"https://www.scalian.com/our-group\"\n",
    "    },\n",
    "    {\"id \": 17,\n",
    "        \"Question\": \"How does Scalian collaborate with other companies in the AUSY Group?\",\n",
    "        \"Answer\": \"Scalian collaborates with other companies in the AUSY Group to leverage synergies, share knowledge, and deliver integrated solutions to clients.\",\n",
    "        \"URL\": \"https://www.scalian.com/our-group\"\n",
    "    },\n",
    "    {\"id \": 18,\n",
    "        \"Question\": \"What are the advantages of being part of the AUSY Group?\",\n",
    "        \"Answer\": \"Being part of the AUSY Group allows Scalian to access a larger network, expand its service offerings, and benefit from the group's international presence.\",\n",
    "        \"URL\": \"https://www.scalian.com/our-group\"\n",
    "    },\n",
    "    {\"id \": 19,\n",
    "        \"Question\": \"Can Scalian work independently from the AUSY Group?\",\n",
    "        \"Answer\": \"While Scalian is part of the AUSY Group, it operates as an independent entity and has its own dedicated teams and projects.\",\n",
    "        \"URL\": \"https://www.scalian.com/our-group\"\n",
    "    },\n",
    "    {\"id \": 20,\n",
    "        \"Question\": \"How does Scalian contribute to the AUSY Group's overall capabilities?\",\n",
    "        \"Answer\": \"Scalian brings its expertise in digital systems, engineering, and information systems to enhance the AUSY Group's capabilities in various industries.\",\n",
    "        \"URL\": \"https://www.scalian.com/our-group\"\n",
    "    },\n",
    "    {\"id \": 21,\n",
    "        \"Question\": \"Where can I find the latest news about Scalian?\",\n",
    "        \"Answer\": \"You can find the latest news about Scalian on our newsroom page, which provides updates on projects, partnerships, and industry insights.\",\n",
    "        \"URL\": \"https://www.scalian.com/newsroom\"\n",
    "    },\n",
    "    {\"id \": 22,\n",
    "        \"Question\": \"Can I subscribe to receive news updates from Scalian?\",\n",
    "        \"Answer\": \"Yes, you can subscribe to our newsletter on the newsroom page to receive regular updates and insights from Scalian.\",\n",
    "        \"URL\": \"https://www.scalian.com/newsroom\"\n",
    "    },\n",
    "    {\"id \": 23,\n",
    "        \"Question\": \"Does Scalian publish case studies or success stories?\",\n",
    "        \"Answer\": \"Yes, Scalian publishes case studies and success stories on the newsroom page to showcase our expertise and the impact of our solutions.\",\n",
    "        \"URL\": \"https://www.scalian.com/newsroom\"\n",
    "    },\n",
    "    {\"id \": 24,\n",
    "        \"Question\": \"Are there any upcoming events or webinars organized by Scalian?\",\n",
    "        \"Answer\": \"Yes, Scalian organizes events and webinars on various topics related to our expertise and industry trends. You can find the details on the newsroom page.\",\n",
    "        \"URL\": \"https://www.scalian.com/newsroom\"\n",
    "    },\n",
    "    {\"id \": 25,\n",
    "        \"Question\": \"Can I access past press releases from Scalian?\",\n",
    "        \"Answer\": \"Yes, you can access past press releases from Scalian on the newsroom page to stay updated on our company's announcements and achievements.\",\n",
    "        \"URL\": \"https://www.scalian.com/newsroom\"\n",
    "    },\n",
    "    {\"id \": 26,\n",
    "        \"Question\": \"What kind of insights does Scalian provide?\",\n",
    "        \"Answer\": \"Scalian provides insights on topics such as digital transformation, industry trends, emerging technologies, and best practices in various sectors.\",\n",
    "        \"URL\": \"https://www.scalian.com/insights\"\n",
    "    },\n",
    "    {\"id \": 27,\n",
    "        \"Question\": \"Can I access whitepapers or research papers from Scalian?\",\n",
    "        \"Answer\": \"Yes, Scalian publishes whitepapers and research papers on the insights page, covering a wide range of topics related to our expertise and industries.\",\n",
    "        \"URL\": \"https://www.scalian.com/insights\"\n",
    "    },\n",
    "    {\"id \": 28,\n",
    "        \"Question\": \"Does Scalian offer thought leadership articles or blogs?\",\n",
    "        \"Answer\": \"Yes, Scalian offers thought leadership articles and blogs written by our experts, providing valuable insights and perspectives on industry challenges and opportunities.\",\n",
    "        \"URL\": \"https://www.scalian.com/insights\"\n",
    "    },\n",
    "    {\"id \": 29,\n",
    "        \"Question\": \"Are there any upcoming webinars or workshops organized by Scalian?\",\n",
    "        \"Answer\": \"Yes, Scalian organizes webinars and workshops on various topics to share knowledge and facilitate discussions. You can find the details on the insights page.\",\n",
    "        \"URL\": \"https://www.scalian.com/insights\"\n",
    "    },\n",
    "    {\"id \": 30,\n",
    "        \"Question\": \"Can I request a specific topic for an insight or webinar?\",\n",
    "        \"Answer\": \"Yes, you can contact us through the insights page to request a specific topic for an insight or webinar, and we will consider it for future content.\",\n",
    "        \"URL\": \"https://www.scalian.com/insights\"\n",
    "    }\n",
    "]\n",
    "\n",
    "\n",
    "for doc in documents:\n",
    "    print(f\"Document ID: {doc['id ']}\")\n",
    "    print(f\"Question: {doc['Question']}\")\n",
    "    print(f\"Answer: {doc['Answer']}\")\n",
    "    print(f\"URL: {doc['URL']}\\n\")\n"
   ],
   "metadata": {
    "collapsed": false,
    "ExecuteTime": {
     "end_time": "2024-02-02T09:49:28.090319Z",
     "start_time": "2024-02-02T09:49:28.075132Z"
    }
   },
   "id": "bf544207195616a1",
   "execution_count": 1
  },
  {
   "cell_type": "markdown",
   "source": [
    "## Create vector database in FAISS"
   ],
   "metadata": {
    "collapsed": false
   },
   "id": "cfba384e38eca9a8"
  },
  {
   "cell_type": "markdown",
   "source": [
    "Before indexing, you will need to think about the vectorization model. You can use different options: train your own vectorizer (for example, based on models from SentenceTransformers) or use something off-the-shelf. I will use the solution from OpenAI (in this case, you will also need to add an API access key).\n",
    "\n",
    "As a vector database, I will use FAISS - currently, it is the fastest solution for searching nearest neighbors. In LangChain, there are also implementations for many other storage systems (ElasticSearch, Redis, Pinecone, and so on)."
   ],
   "metadata": {
    "collapsed": false
   },
   "id": "d21ca1368a36f741"
  },
  {
   "cell_type": "code",
   "outputs": [],
   "source": [
    "#  import libraries\n",
    "import os\n",
    "import pandas as pd\n",
    "from langchain.document_loaders import DataFrameLoader\n",
    "from langchain.text_splitter import RecursiveCharacterTextSplitter # split text into characters\n",
    "from langchain_openai import OpenAIEmbeddings # vectorize text\n",
    "from langchain.vectorstores import FAISS\n"
   ],
   "metadata": {
    "collapsed": false,
    "ExecuteTime": {
     "end_time": "2024-02-02T09:56:17.126847Z",
     "start_time": "2024-02-02T09:56:16.206967Z"
    }
   },
   "id": "f2a64fe2943cae0f",
   "execution_count": 3
  },
  {
   "cell_type": "code",
   "outputs": [
    {
     "data": {
      "text/plain": "True"
     },
     "execution_count": 4,
     "metadata": {},
     "output_type": "execute_result"
    }
   ],
   "source": [
    "import os\n",
    "from dotenv import load_dotenv\n",
    "load_dotenv()"
   ],
   "metadata": {
    "collapsed": false,
    "ExecuteTime": {
     "end_time": "2024-02-02T09:56:17.940245Z",
     "start_time": "2024-02-02T09:56:17.912309Z"
    }
   },
   "id": "d9f574f4831ba825",
   "execution_count": 4
  },
  {
   "cell_type": "code",
   "outputs": [
    {
     "data": {
      "text/plain": "   id                                            Question  \\\n0    1                 What expertise does Scalian offer?   \n1    2  Can Scalian provide support in digital transfo...   \n2    3  Does Scalian have expertise in the aerospace i...   \n3    4  What kind of expertise does Scalian offer in t...   \n4    5  Can Scalian provide support in the energy sector?   \n\n                                              Answer  \\\n0  Scalian offers expertise in various domains su...   \n1  Yes, Scalian specializes in digital transforma...   \n2  Yes, Scalian has extensive expertise in the ae...   \n3  Scalian offers expertise in automotive enginee...   \n4  Yes, Scalian has expertise in the energy secto...   \n\n                                 URL  \n0  https://www.scalian.com/expertise  \n1  https://www.scalian.com/expertise  \n2  https://www.scalian.com/expertise  \n3  https://www.scalian.com/expertise  \n4  https://www.scalian.com/expertise  ",
      "text/html": "<div>\n<style scoped>\n    .dataframe tbody tr th:only-of-type {\n        vertical-align: middle;\n    }\n\n    .dataframe tbody tr th {\n        vertical-align: top;\n    }\n\n    .dataframe thead th {\n        text-align: right;\n    }\n</style>\n<table border=\"1\" class=\"dataframe\">\n  <thead>\n    <tr style=\"text-align: right;\">\n      <th></th>\n      <th>id</th>\n      <th>Question</th>\n      <th>Answer</th>\n      <th>URL</th>\n    </tr>\n  </thead>\n  <tbody>\n    <tr>\n      <th>0</th>\n      <td>1</td>\n      <td>What expertise does Scalian offer?</td>\n      <td>Scalian offers expertise in various domains su...</td>\n      <td>https://www.scalian.com/expertise</td>\n    </tr>\n    <tr>\n      <th>1</th>\n      <td>2</td>\n      <td>Can Scalian provide support in digital transfo...</td>\n      <td>Yes, Scalian specializes in digital transforma...</td>\n      <td>https://www.scalian.com/expertise</td>\n    </tr>\n    <tr>\n      <th>2</th>\n      <td>3</td>\n      <td>Does Scalian have expertise in the aerospace i...</td>\n      <td>Yes, Scalian has extensive expertise in the ae...</td>\n      <td>https://www.scalian.com/expertise</td>\n    </tr>\n    <tr>\n      <th>3</th>\n      <td>4</td>\n      <td>What kind of expertise does Scalian offer in t...</td>\n      <td>Scalian offers expertise in automotive enginee...</td>\n      <td>https://www.scalian.com/expertise</td>\n    </tr>\n    <tr>\n      <th>4</th>\n      <td>5</td>\n      <td>Can Scalian provide support in the energy sector?</td>\n      <td>Yes, Scalian has expertise in the energy secto...</td>\n      <td>https://www.scalian.com/expertise</td>\n    </tr>\n  </tbody>\n</table>\n</div>"
     },
     "execution_count": 5,
     "metadata": {},
     "output_type": "execute_result"
    }
   ],
   "source": [
    "# create dataframe from documents\n",
    "df = pd.DataFrame(documents)\n",
    "df.head()"
   ],
   "metadata": {
    "collapsed": false,
    "ExecuteTime": {
     "end_time": "2024-02-02T09:56:19.705212Z",
     "start_time": "2024-02-02T09:56:19.691320Z"
    }
   },
   "id": "e8bbf73c8fd84adf",
   "execution_count": 5
  },
  {
   "cell_type": "code",
   "outputs": [],
   "source": [
    "# upload frame into loader selecting column for vectorization\n",
    "loader = DataFrameLoader(df, page_content_column=\"Question\")\n",
    "documents = loader.load()"
   ],
   "metadata": {
    "collapsed": false,
    "ExecuteTime": {
     "end_time": "2024-02-02T09:56:22.572355Z",
     "start_time": "2024-02-02T09:56:22.556741Z"
    }
   },
   "id": "189c22908a473dc7",
   "execution_count": 6
  },
  {
   "cell_type": "code",
   "outputs": [
    {
     "data": {
      "text/plain": "Document(page_content='What expertise does Scalian offer?', metadata={'id ': 1, 'Answer': 'Scalian offers expertise in various domains such as digital systems, engineering, information systems, and operations research.', 'URL': 'https://www.scalian.com/expertise'})"
     },
     "execution_count": 7,
     "metadata": {},
     "output_type": "execute_result"
    }
   ],
   "source": [
    "documents[0]"
   ],
   "metadata": {
    "collapsed": false,
    "ExecuteTime": {
     "end_time": "2024-02-02T09:56:24.057878Z",
     "start_time": "2024-02-02T09:56:24.032923Z"
    }
   },
   "id": "8da8a53abd657803",
   "execution_count": 7
  },
  {
   "cell_type": "code",
   "outputs": [],
   "source": [
    "# split text into characters, to meet the token limit, in our case it's not necessary\n",
    "splitter = RecursiveCharacterTextSplitter(chunk_size=1000,chunk_overlap=0)\n",
    "texts = splitter.split_documents(documents)"
   ],
   "metadata": {
    "collapsed": false,
    "ExecuteTime": {
     "end_time": "2024-02-02T09:56:27.018975Z",
     "start_time": "2024-02-02T09:56:27.018208Z"
    }
   },
   "id": "472c411a0b637fc4",
   "execution_count": 8
  },
  {
   "cell_type": "code",
   "outputs": [],
   "source": [
    "# vectorize text\n",
    "openai_api_key = os.getenv(\"OPENAI_API_KEY\")\n",
    "embeddings = OpenAIEmbeddings(openai_api_key=openai_api_key)"
   ],
   "metadata": {
    "collapsed": false,
    "ExecuteTime": {
     "end_time": "2024-02-02T09:56:28.406499Z",
     "start_time": "2024-02-02T09:56:28.351589Z"
    }
   },
   "id": "c8edf00ab332d20a",
   "execution_count": 9
  },
  {
   "cell_type": "code",
   "outputs": [],
   "source": [
    "# create vector database\n",
    "db = FAISS.from_documents(texts, embeddings)\n",
    "db.as_retriever()\n",
    "# and save it locally\n",
    "db.save_local(\"faiss_db_scilian\")\n"
   ],
   "metadata": {
    "collapsed": false,
    "ExecuteTime": {
     "end_time": "2024-02-02T09:57:54.148208Z",
     "start_time": "2024-02-02T09:57:53.114452Z"
    }
   },
   "id": "dbbfcfe50377c2",
   "execution_count": 11
  },
  {
   "cell_type": "code",
   "outputs": [
    {
     "data": {
      "text/plain": "[(Document(page_content='What expertise does Scalian offer?', metadata={'id ': 1, 'Answer': 'Scalian offers expertise in various domains such as digital systems, engineering, information systems, and operations research.', 'URL': 'https://www.scalian.com/expertise'}),\n  0.16581343),\n (Document(page_content='What kind of insights does Scalian provide?', metadata={'id ': 26, 'Answer': 'Scalian provides insights on topics such as digital transformation, industry trends, emerging technologies, and best practices in various sectors.', 'URL': 'https://www.scalian.com/insights'}),\n  0.20063874),\n (Document(page_content='Does Scalian have experience in the telecommunications sector?', metadata={'id ': 8, 'Answer': 'Yes, Scalian has experience in the telecommunications sector, including areas like network optimization, digital transformation, and IoT solutions.', 'URL': 'https://www.scalian.com/industries'}),\n  0.21399286),\n (Document(page_content='Does Scalian have expertise in the aerospace industry?', metadata={'id ': 3, 'Answer': 'Yes, Scalian has extensive expertise in the aerospace industry, including areas like avionics, flight testing, and simulation.', 'URL': 'https://www.scalian.com/expertise'}),\n  0.2179743)]"
     },
     "execution_count": 12,
     "metadata": {},
     "output_type": "execute_result"
    }
   ],
   "source": [
    "# testing retriever\n",
    "db.similarity_search_with_score(\"What experience has scalian?\", top_k=3)"
   ],
   "metadata": {
    "collapsed": false,
    "ExecuteTime": {
     "end_time": "2024-02-02T09:57:55.695874Z",
     "start_time": "2024-02-02T09:57:55.481001Z"
    }
   },
   "id": "4219de1b24f8d7cc",
   "execution_count": 12
  },
  {
   "cell_type": "markdown",
   "source": [
    "We have confirmed that our vector search retrieves relevant documents. Now our task is to pass them to the LLM for obtaining a more detailed and human-like response."
   ],
   "metadata": {
    "collapsed": false
   },
   "id": "866dd84f68f4ecb5"
  },
  {
   "cell_type": "markdown",
   "source": [
    "## Lets add power of chartGPT to our retriever"
   ],
   "metadata": {
    "collapsed": false
   },
   "id": "1451cd100684949e"
  },
  {
   "cell_type": "markdown",
   "source": [
    "In LangChain, this can be done in several ways:\n",
    "1. Build a chain load_qa_chain from the responses of our retriever.\n",
    "2. Directly access the vector database RetrievalQA.\n",
    "3. Obtain specific context and pass it to the LLMChain in the LLM chain.\n"
   ],
   "metadata": {
    "collapsed": false
   },
   "id": "431f37f7234de859"
  },
  {
   "cell_type": "markdown",
   "source": [
    "### Using 1 option  with RetrievalQA"
   ],
   "metadata": {
    "collapsed": false
   },
   "id": "59bb2f78186254d8"
  },
  {
   "cell_type": "code",
   "outputs": [],
   "source": [
    "from langchain.chains import RetrievalQA\n",
    "from langchain_openai import OpenAI\n"
   ],
   "metadata": {
    "collapsed": false,
    "ExecuteTime": {
     "end_time": "2024-02-02T09:59:23.118810Z",
     "start_time": "2024-02-02T09:59:22.585971Z"
    }
   },
   "id": "88efe844b149ee23",
   "execution_count": 13
  },
  {
   "cell_type": "code",
   "outputs": [],
   "source": [
    "# create chain\n",
    "chain = RetrievalQA.from_chain_type(llm=OpenAI(openai_api_key=openai_api_key, temperature=0), retriever=db.as_retriever(), chain_type='stuff')"
   ],
   "metadata": {
    "collapsed": false,
    "ExecuteTime": {
     "end_time": "2024-02-02T09:59:25.599134Z",
     "start_time": "2024-02-02T09:59:25.562835Z"
    }
   },
   "id": "6604df2b33f6bae0",
   "execution_count": 14
  },
  {
   "cell_type": "code",
   "outputs": [
    {
     "data": {
      "text/plain": "{'query': 'What experience has scalian?', 'result': \" I don't know.\"}"
     },
     "execution_count": 15,
     "metadata": {},
     "output_type": "execute_result"
    }
   ],
   "source": [
    "query = \"What experience has scalian?\"\n",
    "chain.invoke(query)"
   ],
   "metadata": {
    "collapsed": false,
    "ExecuteTime": {
     "end_time": "2024-02-02T09:59:27.530015Z",
     "start_time": "2024-02-02T09:59:26.480929Z"
    }
   },
   "id": "6f89e23fb6457acc",
   "execution_count": 15
  },
  {
   "cell_type": "code",
   "outputs": [
    {
     "data": {
      "text/plain": "{'query': \"Does  'scalian' organize workshops and werbinars?\",\n 'result': ' Yes, it is mentioned in the context that Scalian organizes webinars and workshops.'}"
     },
     "execution_count": 16,
     "metadata": {},
     "output_type": "execute_result"
    }
   ],
   "source": [
    "query1 = \"Does  'scalian' organize workshops and werbinars?\"\n",
    "chain.invoke(query1)"
   ],
   "metadata": {
    "collapsed": false,
    "ExecuteTime": {
     "end_time": "2024-02-02T09:59:32.475326Z",
     "start_time": "2024-02-02T09:59:31.480201Z"
    }
   },
   "id": "d1994a39704b1aa4",
   "execution_count": 16
  },
  {
   "cell_type": "markdown",
   "source": [
    "## 2 option with LLMChain  and Prompt modification if needed"
   ],
   "metadata": {
    "collapsed": false
   },
   "id": "1c370abc549bf83"
  },
  {
   "cell_type": "code",
   "outputs": [],
   "source": [
    "from langchain.prompts import PromptTemplate\n",
    "from langchain.chains import LLMChain"
   ],
   "metadata": {
    "collapsed": false,
    "ExecuteTime": {
     "end_time": "2024-02-02T10:01:26.121819Z",
     "start_time": "2024-02-02T10:01:26.118102Z"
    }
   },
   "id": "31766cd422de634d",
   "execution_count": 22
  },
  {
   "cell_type": "code",
   "outputs": [],
   "source": [
    "# create prompt template\n",
    "prompt_template = \"\"\"Use the context to answer the question, following these rules:\n",
    "\n",
    "Do not modify the text enclosed in quotation marks.\n",
    "Make sure to include a link to the full document at the end of your answer.\n",
    "{Answer}\n",
    "url: {URL}\n",
    "\"\"\"\n",
    "\n",
    "PROMPT = PromptTemplate(\n",
    "template=prompt_template, input_variables=['Answer', 'URL']\n",
    ")\n",
    "# create chain with custom prompt\n",
    "chain = LLMChain(llm=OpenAI(temperature=0, openai_api_key=openai_api_key, max_tokens=500), prompt=PROMPT)\n",
    "# temperature=0 - means that we will get the same answer every time"
   ],
   "metadata": {
    "collapsed": false,
    "ExecuteTime": {
     "end_time": "2024-02-02T10:01:26.949084Z",
     "start_time": "2024-02-02T10:01:26.910014Z"
    }
   },
   "id": "4acccaaa26aeb8ab",
   "execution_count": 23
  },
  {
   "cell_type": "code",
   "outputs": [],
   "source": [
    "# retrieve answer from database\n",
    "relevants = db.similarity_search(query1)\n",
    "\n",
    "# get answer and url in dict format\n",
    "doc = relevants[0].dict()['metadata']"
   ],
   "metadata": {
    "collapsed": false,
    "ExecuteTime": {
     "end_time": "2024-02-02T10:01:29.214674Z",
     "start_time": "2024-02-02T10:01:28.929805Z"
    }
   },
   "id": "364ec03cd98166ee",
   "execution_count": 24
  },
  {
   "cell_type": "code",
   "outputs": [
    {
     "data": {
      "text/plain": "{'id ': 29,\n 'Answer': 'Yes, Scalian organizes webinars and workshops on various topics to share knowledge and facilitate discussions. You can find the details on the insights page.',\n 'URL': 'https://www.scalian.com/insights'}"
     },
     "execution_count": 25,
     "metadata": {},
     "output_type": "execute_result"
    }
   ],
   "source": [
    "doc"
   ],
   "metadata": {
    "collapsed": false,
    "ExecuteTime": {
     "end_time": "2024-02-02T10:01:30.229543Z",
     "start_time": "2024-02-02T10:01:30.213265Z"
    }
   },
   "id": "5518e92539c7305f",
   "execution_count": 25
  },
  {
   "cell_type": "code",
   "outputs": [
    {
     "data": {
      "text/plain": "{'id ': 29,\n 'Answer': 'Yes, Scalian organizes webinars and workshops on various topics to share knowledge and facilitate discussions. You can find the details on the insights page.',\n 'URL': 'https://www.scalian.com/insights',\n 'text': '\\nWhat types of events does Scalian organize?\\n\\nScalian organizes webinars and workshops on various topics.'}"
     },
     "execution_count": 26,
     "metadata": {},
     "output_type": "execute_result"
    }
   ],
   "source": [
    "# response from LLM in new prompt format\n",
    "chain.invoke(doc)"
   ],
   "metadata": {
    "collapsed": false,
    "ExecuteTime": {
     "end_time": "2024-02-02T10:01:32.848198Z",
     "start_time": "2024-02-02T10:01:31.922741Z"
    }
   },
   "id": "1f962572907f18ad",
   "execution_count": 26
  },
  {
   "cell_type": "code",
   "outputs": [],
   "source": [],
   "metadata": {
    "collapsed": false
   },
   "id": "5366b648581c2e1e"
  }
 ],
 "metadata": {
  "kernelspec": {
   "display_name": "Python 3",
   "language": "python",
   "name": "python3"
  },
  "language_info": {
   "codemirror_mode": {
    "name": "ipython",
    "version": 2
   },
   "file_extension": ".py",
   "mimetype": "text/x-python",
   "name": "python",
   "nbconvert_exporter": "python",
   "pygments_lexer": "ipython2",
   "version": "2.7.6"
  }
 },
 "nbformat": 4,
 "nbformat_minor": 5
}
