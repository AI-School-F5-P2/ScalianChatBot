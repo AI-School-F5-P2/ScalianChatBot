{
 "cells": [
  {
   "cell_type": "markdown",
   "source": [
    "# Create proper AI model with LangChain and FAISS as vector database"
   ],
   "metadata": {
    "collapsed": false
   },
   "id": "7c1539a4e87285d1"
  },
  {
   "cell_type": "markdown",
   "source": [
    "## Prepare data\n"
   ],
   "metadata": {
    "collapsed": false
   },
   "id": "fefac81d2714f5b2"
  },
  {
   "cell_type": "markdown",
   "source": [
    "## Create vector database in FAISS"
   ],
   "metadata": {
    "collapsed": false
   },
   "id": "cfba384e38eca9a8"
  },
  {
   "cell_type": "markdown",
   "source": [
    "Before indexing, you will need to think about the vectorization model. You can use different options: train your own vectorizer (for example, based on models from SentenceTransformers) or use something off-the-shelf. I will use the solution from OpenAI (in this case, you will also need to add an API access key).\n",
    "\n",
    "As a vector database, I will use FAISS - currently, it is the fastest solution for searching nearest neighbors. In LangChain, there are also implementations for many other storage systems (ElasticSearch, Redis, Pinecone, and so on)."
   ],
   "metadata": {
    "collapsed": false
   },
   "id": "d21ca1368a36f741"
  },
  {
   "cell_type": "code",
   "outputs": [],
   "source": [
    "#  import libraries\n",
    "import os\n",
    "import pandas as pd\n",
    "from langchain.text_splitter import CharacterTextSplitter\n",
    "from langchain_community.document_loaders import DirectoryLoader, TextLoader\n",
    "from langchain_community.vectorstores import FAISS\n",
    "from langchain_openai import ChatOpenAI, OpenAIEmbeddings, OpenAI\n",
    "from langchain.chains import RetrievalQA\n",
    "from langchain.prompts import ChatPromptTemplate, MessagesPlaceholder\n",
    "from langchain.chains import create_history_aware_retriever, create_retrieval_chain\n",
    "from langchain.chains.combine_documents import create_stuff_documents_chain\n",
    "from ragas.testset.generator import TestsetGenerator\n",
    "from ragas.testset.evolutions import simple, reasoning, multi_context\n",
    "from ragas import evaluate\n",
    "from ragas.metrics import (\n",
    "    faithfulness,\n",
    "    answer_relevancy,\n",
    "    context_recall,\n",
    "    context_precision,\n",
    "    answer_correctness\n",
    ")\n",
    "    \n",
    "\n"
   ],
   "metadata": {
    "collapsed": false,
    "ExecuteTime": {
     "end_time": "2024-02-25T23:04:27.124782Z",
     "start_time": "2024-02-25T23:04:27.022736Z"
    }
   },
   "id": "f2a64fe2943cae0f",
   "execution_count": 65
  },
  {
   "cell_type": "code",
   "outputs": [
    {
     "data": {
      "text/plain": "True"
     },
     "execution_count": 30,
     "metadata": {},
     "output_type": "execute_result"
    }
   ],
   "source": [
    "import os\n",
    "from dotenv import load_dotenv\n",
    "load_dotenv()"
   ],
   "metadata": {
    "collapsed": false,
    "ExecuteTime": {
     "end_time": "2024-02-25T21:13:35.054268Z",
     "start_time": "2024-02-25T21:13:34.955453Z"
    }
   },
   "id": "d9f574f4831ba825",
   "execution_count": 30
  },
  {
   "cell_type": "code",
   "outputs": [],
   "source": [
    "\n",
    "openai_api_key = os.getenv(\"OPENAI_API_KEY\")\n",
    "store = '/Users/gala/PycharmProjects/Scalian_Chat/ScalianChatBot/server/frontend/webui/store_documents'\n",
    "database = os.getenv(\"DATABASE\")\n",
    "index = os.getenv(\"INDEX\")"
   ],
   "metadata": {
    "collapsed": false,
    "ExecuteTime": {
     "end_time": "2024-02-25T21:13:35.923352Z",
     "start_time": "2024-02-25T21:13:35.919374Z"
    }
   },
   "id": "2e7023f70dc90572",
   "execution_count": 31
  },
  {
   "cell_type": "code",
   "outputs": [
    {
     "name": "stderr",
     "output_type": "stream",
     "text": [
      "100%|██████████| 230/230 [00:00<00:00, 1620.55it/s]\n"
     ]
    }
   ],
   "source": [
    "folder_path = store\n",
    "text_loader_kwargs = {\"autodetect_encoding\": True}\n",
    "\n",
    "loader = DirectoryLoader(folder_path,\n",
    "            loader_cls=TextLoader,\n",
    "            loader_kwargs=text_loader_kwargs,\n",
    "            show_progress=True,\n",
    "            silent_errors=True,\n",
    "        )\n",
    "documents = loader.load()"
   ],
   "metadata": {
    "collapsed": false,
    "ExecuteTime": {
     "end_time": "2024-02-25T21:13:39.302235Z",
     "start_time": "2024-02-25T21:13:39.133876Z"
    }
   },
   "id": "189c22908a473dc7",
   "execution_count": 32
  },
  {
   "cell_type": "code",
   "outputs": [
    {
     "name": "stderr",
     "output_type": "stream",
     "text": [
      "Created a chunk of size 2885, which is longer than the specified 1000\n",
      "Created a chunk of size 5142, which is longer than the specified 1000\n",
      "Created a chunk of size 1247, which is longer than the specified 1000\n",
      "Created a chunk of size 1359, which is longer than the specified 1000\n",
      "Created a chunk of size 1302, which is longer than the specified 1000\n",
      "Created a chunk of size 1197, which is longer than the specified 1000\n",
      "Created a chunk of size 1044, which is longer than the specified 1000\n",
      "Created a chunk of size 1285, which is longer than the specified 1000\n",
      "Created a chunk of size 4012, which is longer than the specified 1000\n",
      "Created a chunk of size 2745, which is longer than the specified 1000\n",
      "Created a chunk of size 1791, which is longer than the specified 1000\n",
      "Created a chunk of size 1309, which is longer than the specified 1000\n",
      "Created a chunk of size 2680, which is longer than the specified 1000\n",
      "Created a chunk of size 1258, which is longer than the specified 1000\n",
      "Created a chunk of size 1313, which is longer than the specified 1000\n",
      "Created a chunk of size 12151, which is longer than the specified 1000\n",
      "Created a chunk of size 4762, which is longer than the specified 1000\n",
      "Created a chunk of size 1021, which is longer than the specified 1000\n",
      "Created a chunk of size 3949, which is longer than the specified 1000\n",
      "Created a chunk of size 1246, which is longer than the specified 1000\n",
      "Created a chunk of size 3582, which is longer than the specified 1000\n",
      "Created a chunk of size 1785, which is longer than the specified 1000\n",
      "Created a chunk of size 1555, which is longer than the specified 1000\n",
      "Created a chunk of size 1585, which is longer than the specified 1000\n",
      "Created a chunk of size 1384, which is longer than the specified 1000\n",
      "Created a chunk of size 4198, which is longer than the specified 1000\n",
      "Created a chunk of size 1204, which is longer than the specified 1000\n",
      "Created a chunk of size 1162, which is longer than the specified 1000\n",
      "Created a chunk of size 1162, which is longer than the specified 1000\n",
      "Created a chunk of size 1285, which is longer than the specified 1000\n",
      "Created a chunk of size 1391, which is longer than the specified 1000\n",
      "Created a chunk of size 5674, which is longer than the specified 1000\n",
      "Created a chunk of size 1016, which is longer than the specified 1000\n",
      "Created a chunk of size 1380, which is longer than the specified 1000\n",
      "Created a chunk of size 1530, which is longer than the specified 1000\n",
      "Created a chunk of size 1570, which is longer than the specified 1000\n",
      "Created a chunk of size 1236, which is longer than the specified 1000\n",
      "Created a chunk of size 1162, which is longer than the specified 1000\n",
      "Created a chunk of size 1458, which is longer than the specified 1000\n",
      "Created a chunk of size 1028, which is longer than the specified 1000\n",
      "Created a chunk of size 1419, which is longer than the specified 1000\n",
      "Created a chunk of size 1136, which is longer than the specified 1000\n",
      "Created a chunk of size 2347, which is longer than the specified 1000\n",
      "Created a chunk of size 5793, which is longer than the specified 1000\n",
      "Created a chunk of size 1493, which is longer than the specified 1000\n",
      "Created a chunk of size 2588, which is longer than the specified 1000\n",
      "Created a chunk of size 1050, which is longer than the specified 1000\n",
      "Created a chunk of size 1514, which is longer than the specified 1000\n",
      "Created a chunk of size 1293, which is longer than the specified 1000\n",
      "Created a chunk of size 1026, which is longer than the specified 1000\n",
      "Created a chunk of size 1927, which is longer than the specified 1000\n",
      "Created a chunk of size 1796, which is longer than the specified 1000\n",
      "Created a chunk of size 1184, which is longer than the specified 1000\n",
      "Created a chunk of size 1719, which is longer than the specified 1000\n",
      "Created a chunk of size 3417, which is longer than the specified 1000\n",
      "Created a chunk of size 2067, which is longer than the specified 1000\n",
      "Created a chunk of size 2611, which is longer than the specified 1000\n",
      "Created a chunk of size 1557, which is longer than the specified 1000\n",
      "Created a chunk of size 1303, which is longer than the specified 1000\n",
      "Created a chunk of size 1354, which is longer than the specified 1000\n",
      "Created a chunk of size 2269, which is longer than the specified 1000\n",
      "Created a chunk of size 1919, which is longer than the specified 1000\n",
      "Created a chunk of size 1706, which is longer than the specified 1000\n",
      "Created a chunk of size 1003, which is longer than the specified 1000\n",
      "Created a chunk of size 2568, which is longer than the specified 1000\n",
      "Created a chunk of size 3116, which is longer than the specified 1000\n",
      "Created a chunk of size 1338, which is longer than the specified 1000\n",
      "Created a chunk of size 3579, which is longer than the specified 1000\n",
      "Created a chunk of size 1205, which is longer than the specified 1000\n",
      "Created a chunk of size 1143, which is longer than the specified 1000\n",
      "Created a chunk of size 1602, which is longer than the specified 1000\n",
      "Created a chunk of size 1077, which is longer than the specified 1000\n",
      "Created a chunk of size 1227, which is longer than the specified 1000\n",
      "Created a chunk of size 2939, which is longer than the specified 1000\n",
      "Created a chunk of size 1905, which is longer than the specified 1000\n",
      "Created a chunk of size 1174, which is longer than the specified 1000\n",
      "Created a chunk of size 1045, which is longer than the specified 1000\n",
      "Created a chunk of size 1026, which is longer than the specified 1000\n",
      "Created a chunk of size 1927, which is longer than the specified 1000\n",
      "Created a chunk of size 1209, which is longer than the specified 1000\n",
      "Created a chunk of size 1365, which is longer than the specified 1000\n",
      "Created a chunk of size 4109, which is longer than the specified 1000\n",
      "Created a chunk of size 1062, which is longer than the specified 1000\n",
      "Created a chunk of size 1277, which is longer than the specified 1000\n",
      "Created a chunk of size 1098, which is longer than the specified 1000\n",
      "Created a chunk of size 1316, which is longer than the specified 1000\n",
      "Created a chunk of size 1233, which is longer than the specified 1000\n",
      "Created a chunk of size 3557, which is longer than the specified 1000\n",
      "Created a chunk of size 2039, which is longer than the specified 1000\n",
      "Created a chunk of size 1696, which is longer than the specified 1000\n",
      "Created a chunk of size 1051, which is longer than the specified 1000\n",
      "Created a chunk of size 1196, which is longer than the specified 1000\n",
      "Created a chunk of size 1293, which is longer than the specified 1000\n",
      "Created a chunk of size 1162, which is longer than the specified 1000\n",
      "Created a chunk of size 2037, which is longer than the specified 1000\n",
      "Created a chunk of size 1296, which is longer than the specified 1000\n",
      "Created a chunk of size 3598, which is longer than the specified 1000\n",
      "Created a chunk of size 3339, which is longer than the specified 1000\n",
      "Created a chunk of size 1078, which is longer than the specified 1000\n",
      "Created a chunk of size 4923, which is longer than the specified 1000\n",
      "Created a chunk of size 1025, which is longer than the specified 1000\n",
      "Created a chunk of size 1213, which is longer than the specified 1000\n",
      "Created a chunk of size 1192, which is longer than the specified 1000\n",
      "Created a chunk of size 1909, which is longer than the specified 1000\n",
      "Created a chunk of size 2229, which is longer than the specified 1000\n",
      "Created a chunk of size 2015, which is longer than the specified 1000\n",
      "Created a chunk of size 1053, which is longer than the specified 1000\n",
      "Created a chunk of size 1257, which is longer than the specified 1000\n",
      "Created a chunk of size 1181, which is longer than the specified 1000\n",
      "Created a chunk of size 1467, which is longer than the specified 1000\n",
      "Created a chunk of size 1280, which is longer than the specified 1000\n",
      "Created a chunk of size 1441, which is longer than the specified 1000\n",
      "Created a chunk of size 1012, which is longer than the specified 1000\n",
      "Created a chunk of size 1021, which is longer than the specified 1000\n",
      "Created a chunk of size 1251, which is longer than the specified 1000\n",
      "Created a chunk of size 1171, which is longer than the specified 1000\n",
      "Created a chunk of size 1086, which is longer than the specified 1000\n",
      "Created a chunk of size 4058, which is longer than the specified 1000\n",
      "Created a chunk of size 2263, which is longer than the specified 1000\n",
      "Created a chunk of size 1331, which is longer than the specified 1000\n",
      "Created a chunk of size 1595, which is longer than the specified 1000\n",
      "Created a chunk of size 2264, which is longer than the specified 1000\n"
     ]
    }
   ],
   "source": [
    "# split text into characters, to meet the token limit, in our case it's not necessary\n",
    "text_splitter = CharacterTextSplitter(\n",
    "chunk_size=1000, chunk_overlap=100, #length_function=len, add_start_index=True\n",
    ")\n",
    "docs = text_splitter.split_documents(documents)"
   ],
   "metadata": {
    "collapsed": false,
    "ExecuteTime": {
     "end_time": "2024-02-25T21:14:08.103150Z",
     "start_time": "2024-02-25T21:14:03.483101Z"
    }
   },
   "id": "472c411a0b637fc4",
   "execution_count": 34
  },
  {
   "cell_type": "code",
   "outputs": [],
   "source": [
    "# vectorize text\n",
    "embeddings = OpenAIEmbeddings(model=\"text-embedding-3-small\")\n",
    "db = FAISS.from_documents(docs, embeddings)"
   ],
   "metadata": {
    "collapsed": false,
    "ExecuteTime": {
     "end_time": "2024-02-25T21:14:46.032717Z",
     "start_time": "2024-02-25T21:14:36.136908Z"
    }
   },
   "id": "c8edf00ab332d20a",
   "execution_count": 36
  },
  {
   "cell_type": "code",
   "outputs": [
    {
     "name": "stdout",
     "output_type": "stream",
     "text": [
      "Database exists...\n"
     ]
    }
   ],
   "source": [
    "\n",
    "# and save it locally\n",
    "current_dir = os.path.dirname('/Users/gala/PycharmProjects/Scalian_Chat/ScalianChatBot/server/frontend/webui/')\n",
    "folder_documents = os.path.join(current_dir, 'scalian_database')\n",
    "if os.path.exists(folder_documents) and os.path.exists(\n",
    "    f\"{folder_documents}/{index}\"\n",
    "):\n",
    "    print(\"Database exists...\")\n",
    "    is_database_stored = True\n",
    "else:\n",
    "    print(\"Database does not exist...\")\n",
    "    is_database_stored = False"
   ],
   "metadata": {
    "collapsed": false,
    "ExecuteTime": {
     "end_time": "2024-02-25T21:14:47.675916Z",
     "start_time": "2024-02-25T21:14:47.671298Z"
    }
   },
   "id": "dbbfcfe50377c2",
   "execution_count": 37
  },
  {
   "cell_type": "code",
   "outputs": [
    {
     "name": "stdout",
     "output_type": "stream",
     "text": [
      "Loading the database...\n"
     ]
    }
   ],
   "source": [
    "# as database is stored, we can load it\n",
    "\n",
    "llm = ChatOpenAI(model=\"gpt-3.5-turbo-0125\", temperature=0.3, max_tokens=500)\n",
    "embeddings = OpenAIEmbeddings(model=\"text-embedding-3-small\")\n",
    "\n",
    "if is_database_stored:\n",
    "    print(\"Loading the database...\")\n",
    "    db = FAISS.load_local(\"/Users/gala/PycharmProjects/Scalian_Chat/ScalianChatBot/server/frontend/webui/scalian_database\", embeddings)\n",
    "else:\n",
    "    print(\"Creating the database...\")\n",
    "    db = FAISS.from_documents(docs, embeddings)\n",
    "    db.save_local(\"scalian_database\")\n",
    "\n",
    "retriever = db.as_retriever()\n",
    "# prompt = ChatPromptTemplate.from_messages(\n",
    "#             [\n",
    "#                 MessagesPlaceholder(variable_name=\"chat_history\"),\n",
    "#                 \n",
    "#                 (\n",
    "#                     \"user\",\n",
    "#                     \"Given the above conversation, generate a search query to look up in order to get information relevant to the conversation\",\n",
    "#                 ),\n",
    "#             ]\n",
    "#         )\n",
    "\n",
    "retriever_chain = RetrievalQA.from_chain_type(llm=llm, retriever=retriever, return_source_documents=True)"
   ],
   "metadata": {
    "collapsed": false,
    "ExecuteTime": {
     "end_time": "2024-02-25T23:00:35.674901Z",
     "start_time": "2024-02-25T23:00:34.830765Z"
    }
   },
   "id": "aed22cd8916e6b47",
   "execution_count": 63
  },
  {
   "cell_type": "code",
   "outputs": [
    {
     "data": {
      "text/plain": "embedding nodes:   0%|          | 0/800 [00:00<?, ?it/s]",
      "application/vnd.jupyter.widget-view+json": {
       "version_major": 2,
       "version_minor": 0,
       "model_id": "4661b21bf5384fb083db67be82be1a82"
      }
     },
     "metadata": {},
     "output_type": "display_data"
    },
    {
     "name": "stderr",
     "output_type": "stream",
     "text": [
      "Filename and doc_id are the same for all nodes.\n"
     ]
    },
    {
     "data": {
      "text/plain": "Generating:   0%|          | 0/10 [00:00<?, ?it/s]",
      "application/vnd.jupyter.widget-view+json": {
       "version_major": 2,
       "version_minor": 0,
       "model_id": "6a7532f6cc564289b4fb32e1af17c5ea"
      }
     },
     "metadata": {},
     "output_type": "display_data"
    }
   ],
   "source": [
    "# нужно добавить поле file_name, иначе генерация не запустится\n",
    "for document in documents:\n",
    "    document.metadata['file_name'] = document.metadata['source']\n",
    "# generator with openai models\n",
    "generator = TestsetGenerator.with_openai()\n",
    "\n",
    "# generate testset\n",
    "testset = generator.generate_with_langchain_docs(documents, test_size=10, distributions={simple: 0.5, reasoning: 0.25, multi_context: 0.25})"
   ],
   "metadata": {
    "collapsed": false,
    "ExecuteTime": {
     "end_time": "2024-02-25T22:10:43.946296Z",
     "start_time": "2024-02-25T22:09:11.265066Z"
    }
   },
   "id": "1eace62a276b414b",
   "execution_count": 46
  },
  {
   "cell_type": "code",
   "outputs": [
    {
     "data": {
      "text/plain": "                                            question  \\\n0  ¿Cómo ayudan las nuevas tecnologías digitales ...   \n1  ¿Cuál es la importancia de los Datos en el éxi...   \n2  ¿Por qué son esenciales la adaptación y la for...   \n3  ¿Cómo contribuye la innovación colaborativa al...   \n4  ¿Cómo contribuye el enfoque ágil a la adopción...   \n\n                                            contexts  \\\n0  [title: Industria del futuro - Scalian\\nurl: h...   \n1  [presarial, hiperpersonalización y la tecnolog...   \n2  [title: El Futuro del Trabajo: Cómo la Automat...   \n3  [title: Nuestros socios - Scalian\\nurl: https:...   \n4  [ que hace vivir a la empresa. Incluso si cada...   \n\n                                        ground_truth evolution_type  \\\n0  Las nuevas tecnologías digitales ayudan a las ...         simple   \n1  Optimizar el uso de datos es esencial para el ...         simple   \n2  Las habilidades de adaptación y la formación c...         simple   \n3  La innovación colaborativa contribuye al enfoq...         simple   \n4  La práctica ágil permite adoptar una postura d...         simple   \n\n   episode_done  \n0          True  \n1          True  \n2          True  \n3          True  \n4          True  ",
      "text/html": "<div>\n<style scoped>\n    .dataframe tbody tr th:only-of-type {\n        vertical-align: middle;\n    }\n\n    .dataframe tbody tr th {\n        vertical-align: top;\n    }\n\n    .dataframe thead th {\n        text-align: right;\n    }\n</style>\n<table border=\"1\" class=\"dataframe\">\n  <thead>\n    <tr style=\"text-align: right;\">\n      <th></th>\n      <th>question</th>\n      <th>contexts</th>\n      <th>ground_truth</th>\n      <th>evolution_type</th>\n      <th>episode_done</th>\n    </tr>\n  </thead>\n  <tbody>\n    <tr>\n      <th>0</th>\n      <td>¿Cómo ayudan las nuevas tecnologías digitales ...</td>\n      <td>[title: Industria del futuro - Scalian\\nurl: h...</td>\n      <td>Las nuevas tecnologías digitales ayudan a las ...</td>\n      <td>simple</td>\n      <td>True</td>\n    </tr>\n    <tr>\n      <th>1</th>\n      <td>¿Cuál es la importancia de los Datos en el éxi...</td>\n      <td>[presarial, hiperpersonalización y la tecnolog...</td>\n      <td>Optimizar el uso de datos es esencial para el ...</td>\n      <td>simple</td>\n      <td>True</td>\n    </tr>\n    <tr>\n      <th>2</th>\n      <td>¿Por qué son esenciales la adaptación y la for...</td>\n      <td>[title: El Futuro del Trabajo: Cómo la Automat...</td>\n      <td>Las habilidades de adaptación y la formación c...</td>\n      <td>simple</td>\n      <td>True</td>\n    </tr>\n    <tr>\n      <th>3</th>\n      <td>¿Cómo contribuye la innovación colaborativa al...</td>\n      <td>[title: Nuestros socios - Scalian\\nurl: https:...</td>\n      <td>La innovación colaborativa contribuye al enfoq...</td>\n      <td>simple</td>\n      <td>True</td>\n    </tr>\n    <tr>\n      <th>4</th>\n      <td>¿Cómo contribuye el enfoque ágil a la adopción...</td>\n      <td>[ que hace vivir a la empresa. Incluso si cada...</td>\n      <td>La práctica ágil permite adoptar una postura d...</td>\n      <td>simple</td>\n      <td>True</td>\n    </tr>\n  </tbody>\n</table>\n</div>"
     },
     "execution_count": 47,
     "metadata": {},
     "output_type": "execute_result"
    }
   ],
   "source": [
    "testset_pd = testset.to_pandas()\n",
    "test_questions = testset_pd[\"question\"].values.tolist() # list of questions to test\n",
    "test_groundtruths = testset_pd[\"ground_truth\"].values.tolist() # list of ground truths (answers)\n",
    "testset_pd.head()"
   ],
   "metadata": {
    "collapsed": false,
    "ExecuteTime": {
     "end_time": "2024-02-25T22:12:01.731732Z",
     "start_time": "2024-02-25T22:12:01.476053Z"
    }
   },
   "id": "4b5a83a6e9864b42",
   "execution_count": 47
  },
  {
   "cell_type": "code",
   "outputs": [],
   "source": [
    "# save testset\n",
    "testset_pd.to_csv('testset.csv', index=False)"
   ],
   "metadata": {
    "collapsed": false,
    "ExecuteTime": {
     "end_time": "2024-02-25T22:24:06.846748Z",
     "start_time": "2024-02-25T22:24:06.831691Z"
    }
   },
   "id": "8f3128e807c14d12",
   "execution_count": 50
  },
  {
   "cell_type": "code",
   "outputs": [],
   "source": [
    "from datasets import Dataset  \n",
    "from tqdm import tqdm  "
   ],
   "metadata": {
    "collapsed": false,
    "ExecuteTime": {
     "end_time": "2024-02-25T22:31:02.852841Z",
     "start_time": "2024-02-25T22:31:02.851245Z"
    }
   },
   "id": "c93dbf1085b65109",
   "execution_count": 51
  },
  {
   "cell_type": "code",
   "outputs": [
    {
     "data": {
      "text/plain": "{'question': '¿Cómo ayudan las nuevas tecnologías digitales a las industrias a superar nuevos umbrales de rendimiento, eficiencia y creación de valores según Scalian?',\n 'answer': 'Las nuevas tecnologías digitales ayudan a las industrias a superar nuevos umbrales de rendimiento, eficiencia y creación de valores según Scalian al ayudar a los industriales a seleccionar entre las nuevas tecnologías digitales disponibles. Esto les permite recurrir a aquellas tecnologías que les permitan sobrepasar nuevos umbrales de rendimiento, eficiencia y creación de valores. Es importante tener en cuenta que los objetivos elegidos deben situarse fuera de la zona de confort, es decir, fuera de los objetivos de progreso continuo o del enfoque \"Lean\". Esto implica abordar una visión integral para aprovechar al máximo el aporte de la tecnología digital en el sector industrial. Scalian se apoya en metodologías propias y en tecnologías digitales como big data, inteligencia artificial, simulación, realidad aumentada, Cloud & Web, seguridad informática, y aplicaciones digitales para imaginar soluciones basadas en el 3U.',\n 'contexts': ['- Más allá de las zonas de confort\\n - Cada proyecto debe servir a un objetivo estratégico. Ayudar a los industriales a seleccionar entre las nuevas tecnologías digitales puestas a su disposición para que recurran a las que les permitan sobrepasar nuevos umbrales de rendimiento, eficiencia y creación de valores.\\n - Los objetivos elegidos deben, por definición, situarse fuera de la zona de confort, i.e. la de los objetivos de progreso continuo o del «Lean». Esos objetivos se reducen a menudo a problemáticas técnicas «compartimentadas», pero Industria 4.0 no sólo es un asunto de tecnología: se trata de inventar otra forma de trabajar juntos.\\n - Ello implica plantear\\xa0una visión a 360˚\\xa0para extraer todo el aporte de la tecnología digital en el sector industrial. Para ello, Scalian se apoya en una metodología equipada para acompañarle en ese cambio. Scalian dispone de una sabiduría técnica y metodológica propia (métodos R2R©, OuDiPo©, SCMP©…), en la que nos apoyamos principalmente en las tecnologías digitales como: big data, inteligencia artificial, simulación, realidad aumentada, Cloud & Web, seguridad informática, aplicaciones digitales para imaginar soluciones baseadas en el 3U.',\n  'title: Tecnologías digitales - Scalian\\nurl: https://www.scalian.com/es/competencias/tecnologias-digitales/\\n\\nHome ES - Expertises - Tecnologías digitales\\n\\n\\nTecnologías digitales\\n\\n\\nCaptamos los datos en su entorno bruto, complejo o crítico, los procesamos, los analizamos y sabemos valorizarlos para restituirlos en un contexto seguro y ergonómico de ayuda a la toma de decisiones o para servicios innovadores.\\n\\n\\n - ¿Cómo utilizar las tecnologías para llevar a cabo la transformación?\\n - Desde el dominio de datos en el diseño de sistemas embarcados, autónomos o críticos, hasta la elección tecnológica y la validación de sistemas de información, acompañamos a nuestros clientes a desarrollar sus productos más innovadores y a implantar los procesos más adecuados.\\n\\n - Sistemas complejos, integrados y críticos, autónomos, de simulación, de prueba o de información…\\n - hemos hecho de sus sistemas nuestra especialidad.',\n  'title: Transformación Digital en la Industria: Mejoramos la eficiencia y la toma de decisiones | Scalian Spain\\nurl: https://www.scalian-spain.es/transformacion-digital-en-la-industria-mejoramos-la-eficiencia-y-la-toma-de-decisiones/\\n\\nTransformación Digital en la Industria: Mejoramos la eficiencia y la toma de decisiones\\n\\n\\nseptiembre 27, 2023\\n\\n\\nInteligencia Artificial, Tecnología, Transformación Digital\\n\\n\\n¿Están las empresas listas para cuarta revolución industrial? ¿Cuentan con las herramientas necesarias para enfrentar con éxito a los retos cambiantes del mercado actual? En este artículo, desde Scalian Spain, analizamos cómo la digitalización de datos y la migración hacia entornos Cloud están rediseñando por completo la industria 4.0 y por qué somos un referente en este sector.',\n  '- Los tecnologías digitales según Scalian\\n - Nuestro enfoque\\n - Hemos desarrollado especialidades en torno a los sistemas. Tanto si se trata de sistemas embebidos y críticos, autónomos, de información o destinados a instalaciones de simulación o de medios de test, apoyamos a nuestros clientes en sus proyectos más complejos.\\n - Sistemas embarcados y críticos, de simulación y medios de test\\n - Especialista de los sistemas embarcados y críticos, la simulación, los medios de test, Scalian\\xa0desarrolla proyectos para los grandes nombres de los sectores del aeroespacial, la defensa, la seguridad, la energía y el medio ambiente. Su vasta gama de soluciones innovadoras permite el desarrollo de procesos y herramientas sofisticadas, flexibles y evolutivas basadas en las mejores prácticas industriales.\\n - Sistemas de información\\n - Comprender los desafíos de organización ha permitido a Scalian acompañar a sus clientes en proyectos de transformación, en el despliegue de soluciones funcionales, digitales o en actividades de soporte y de infogerencia.'],\n 'ground_truth': 'Las nuevas tecnologías digitales ayudan a las industrias a superar nuevos umbrales de rendimiento, eficiencia y creación de valores al permitirles seleccionar entre las tecnologías disponibles aquellas que les permitan sobrepasar estos nuevos umbrales. Esto se logra mediante la transformación digital que abarca desde la transformación del front-end, como los productos y las experiencias de los clientes, hasta la transformación del back-end, como la nube y la infraestructura de TI. Además, la integración de Big Data e inteligencia artificial respalda los métodos Lean Manufacturing, Kaizen y Calidad Total, abriendo nuevas oportunidades para la eficiencia y la innovación en la fabricación.'}"
     },
     "execution_count": 64,
     "metadata": {},
     "output_type": "execute_result"
    }
   ],
   "source": [
    "\n",
    "answers = []\n",
    "contexts = []\n",
    "\n",
    "for question in test_questions:\n",
    "  response = retriever_chain.invoke({\"query\" : question})\n",
    "  answers.append(response[\"result\"])\n",
    "  contexts.append([context.page_content for context in response['source_documents']])\n",
    "\n",
    "#wrap into huggingface dataset\n",
    "response_dataset_retrieval = Dataset.from_dict({\n",
    "    \"question\" : test_questions,\n",
    "    \"answer\" : answers,\n",
    "    \"contexts\" : contexts,\n",
    "    \"ground_truth\" : test_groundtruths\n",
    "})\n",
    "response_dataset_retrieval[0]\n"
   ],
   "metadata": {
    "collapsed": false,
    "ExecuteTime": {
     "end_time": "2024-02-25T23:01:38.126892Z",
     "start_time": "2024-02-25T23:01:07.219036Z"
    }
   },
   "id": "352da3609b4f3d56",
   "execution_count": 64
  },
  {
   "cell_type": "code",
   "outputs": [
    {
     "data": {
      "text/plain": "Evaluating:   0%|          | 0/40 [00:00<?, ?it/s]",
      "application/vnd.jupyter.widget-view+json": {
       "version_major": 2,
       "version_minor": 0,
       "model_id": "4ce953ee4e8f4f4bb54bc1bb87cd23e7"
      }
     },
     "metadata": {},
     "output_type": "display_data"
    },
    {
     "data": {
      "text/plain": "{'faithfulness': 1.0000, 'answer_relevancy': 0.9394, 'context_recall': 0.7750, 'context_precision': 0.8917}"
     },
     "execution_count": 67,
     "metadata": {},
     "output_type": "execute_result"
    }
   ],
   "source": [
    "metrics = [\n",
    "    faithfulness,\n",
    "    answer_relevancy,\n",
    "    context_recall,\n",
    "    context_precision\n",
    "]\n",
    "retrieval_results = evaluate(response_dataset_retrieval, metrics,raise_exceptions=False)\n",
    "retrieval_results\n"
   ],
   "metadata": {
    "collapsed": false,
    "ExecuteTime": {
     "end_time": "2024-02-25T23:10:23.481701Z",
     "start_time": "2024-02-25T23:09:01.163261Z"
    }
   },
   "id": "d61aa06011198887",
   "execution_count": 67
  },
  {
   "cell_type": "code",
   "outputs": [
    {
     "data": {
      "text/plain": "              Metric  Evalauation\n0       faithfulness     1.000000\n1   answer_relevancy     0.939357\n2     context_recall     0.775000\n3  context_precision     0.891667",
      "text/html": "<div>\n<style scoped>\n    .dataframe tbody tr th:only-of-type {\n        vertical-align: middle;\n    }\n\n    .dataframe tbody tr th {\n        vertical-align: top;\n    }\n\n    .dataframe thead th {\n        text-align: right;\n    }\n</style>\n<table border=\"1\" class=\"dataframe\">\n  <thead>\n    <tr style=\"text-align: right;\">\n      <th></th>\n      <th>Metric</th>\n      <th>Evalauation</th>\n    </tr>\n  </thead>\n  <tbody>\n    <tr>\n      <th>0</th>\n      <td>faithfulness</td>\n      <td>1.000000</td>\n    </tr>\n    <tr>\n      <th>1</th>\n      <td>answer_relevancy</td>\n      <td>0.939357</td>\n    </tr>\n    <tr>\n      <th>2</th>\n      <td>context_recall</td>\n      <td>0.775000</td>\n    </tr>\n    <tr>\n      <th>3</th>\n      <td>context_precision</td>\n      <td>0.891667</td>\n    </tr>\n  </tbody>\n</table>\n</div>"
     },
     "execution_count": 68,
     "metadata": {},
     "output_type": "execute_result"
    }
   ],
   "source": [
    "df_metrics = pd.DataFrame(list(retrieval_results.items()), columns=['Metric', 'Evalauation'])\n",
    "df_metrics"
   ],
   "metadata": {
    "collapsed": false,
    "ExecuteTime": {
     "end_time": "2024-02-25T23:13:14.185594Z",
     "start_time": "2024-02-25T23:13:14.176599Z"
    }
   },
   "id": "250b07312a1a304c",
   "execution_count": 68
  },
  {
   "cell_type": "code",
   "outputs": [],
   "source": [
    "df_metrics.to_csv('retrieval_metrics.csv', index=False)"
   ],
   "metadata": {
    "collapsed": false,
    "ExecuteTime": {
     "end_time": "2024-02-25T23:13:59.668592Z",
     "start_time": "2024-02-25T23:13:59.633355Z"
    }
   },
   "id": "3fe368ee37421754",
   "execution_count": 69
  },
  {
   "cell_type": "code",
   "outputs": [],
   "source": [],
   "metadata": {
    "collapsed": false
   },
   "id": "45ea83cf69cf6eb0"
  }
 ],
 "metadata": {
  "kernelspec": {
   "display_name": "Python 3",
   "language": "python",
   "name": "python3"
  },
  "language_info": {
   "codemirror_mode": {
    "name": "ipython",
    "version": 2
   },
   "file_extension": ".py",
   "mimetype": "text/x-python",
   "name": "python",
   "nbconvert_exporter": "python",
   "pygments_lexer": "ipython2",
   "version": "2.7.6"
  }
 },
 "nbformat": 4,
 "nbformat_minor": 5
}
